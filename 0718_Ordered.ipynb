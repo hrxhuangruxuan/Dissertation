{
 "cells": [
  {
   "cell_type": "code",
   "execution_count": 2,
   "metadata": {},
   "outputs": [
    {
     "name": "stdout",
     "output_type": "stream",
     "text": [
      "Requirement already satisfied: ipywidgets in /opt/conda/lib/python3.11/site-packages (8.1.0)\n",
      "Requirement already satisfied: comm>=0.1.3 in /opt/conda/lib/python3.11/site-packages (from ipywidgets) (0.1.4)\n",
      "Requirement already satisfied: ipython>=6.1.0 in /opt/conda/lib/python3.11/site-packages (from ipywidgets) (8.15.0)\n",
      "Requirement already satisfied: traitlets>=4.3.1 in /opt/conda/lib/python3.11/site-packages (from ipywidgets) (5.9.0)\n",
      "Requirement already satisfied: widgetsnbextension~=4.0.7 in /opt/conda/lib/python3.11/site-packages (from ipywidgets) (4.0.8)\n",
      "Requirement already satisfied: jupyterlab-widgets~=3.0.7 in /opt/conda/lib/python3.11/site-packages (from ipywidgets) (3.0.8)\n",
      "Requirement already satisfied: backcall in /opt/conda/lib/python3.11/site-packages (from ipython>=6.1.0->ipywidgets) (0.2.0)\n",
      "Requirement already satisfied: decorator in /opt/conda/lib/python3.11/site-packages (from ipython>=6.1.0->ipywidgets) (5.1.1)\n",
      "Requirement already satisfied: jedi>=0.16 in /opt/conda/lib/python3.11/site-packages (from ipython>=6.1.0->ipywidgets) (0.19.0)\n",
      "Requirement already satisfied: matplotlib-inline in /opt/conda/lib/python3.11/site-packages (from ipython>=6.1.0->ipywidgets) (0.1.6)\n",
      "Requirement already satisfied: pickleshare in /opt/conda/lib/python3.11/site-packages (from ipython>=6.1.0->ipywidgets) (0.7.5)\n",
      "Requirement already satisfied: prompt-toolkit!=3.0.37,<3.1.0,>=3.0.30 in /opt/conda/lib/python3.11/site-packages (from ipython>=6.1.0->ipywidgets) (3.0.39)\n",
      "Requirement already satisfied: pygments>=2.4.0 in /opt/conda/lib/python3.11/site-packages (from ipython>=6.1.0->ipywidgets) (2.16.1)\n",
      "Requirement already satisfied: stack-data in /opt/conda/lib/python3.11/site-packages (from ipython>=6.1.0->ipywidgets) (0.6.2)\n",
      "Requirement already satisfied: pexpect>4.3 in /opt/conda/lib/python3.11/site-packages (from ipython>=6.1.0->ipywidgets) (4.8.0)\n",
      "Requirement already satisfied: parso<0.9.0,>=0.8.3 in /opt/conda/lib/python3.11/site-packages (from jedi>=0.16->ipython>=6.1.0->ipywidgets) (0.8.3)\n",
      "Requirement already satisfied: ptyprocess>=0.5 in /opt/conda/lib/python3.11/site-packages (from pexpect>4.3->ipython>=6.1.0->ipywidgets) (0.7.0)\n",
      "Requirement already satisfied: wcwidth in /opt/conda/lib/python3.11/site-packages (from prompt-toolkit!=3.0.37,<3.1.0,>=3.0.30->ipython>=6.1.0->ipywidgets) (0.2.6)\n",
      "Requirement already satisfied: executing>=1.2.0 in /opt/conda/lib/python3.11/site-packages (from stack-data->ipython>=6.1.0->ipywidgets) (1.2.0)\n",
      "Requirement already satisfied: asttokens>=2.1.0 in /opt/conda/lib/python3.11/site-packages (from stack-data->ipython>=6.1.0->ipywidgets) (2.4.0)\n",
      "Requirement already satisfied: pure-eval in /opt/conda/lib/python3.11/site-packages (from stack-data->ipython>=6.1.0->ipywidgets) (0.2.2)\n",
      "Requirement already satisfied: six>=1.12.0 in /opt/conda/lib/python3.11/site-packages (from asttokens>=2.1.0->stack-data->ipython>=6.1.0->ipywidgets) (1.16.0)\n"
     ]
    }
   ],
   "source": [
    "#!pip install ipywidgets"
   ]
  },
  {
   "cell_type": "code",
   "execution_count": 5,
   "metadata": {},
   "outputs": [
    {
     "name": "stdout",
     "output_type": "stream",
     "text": [
      "Collecting pyreadstat\n",
      "  Obtaining dependency information for pyreadstat from https://files.pythonhosted.org/packages/82/cc/519ee6307f25e40a349cc1cef730b9b47bf7ef81a94f9b14afcc7d058374/pyreadstat-1.2.7-cp311-cp311-manylinux_2_17_x86_64.manylinux2014_x86_64.whl.metadata\n",
      "  Downloading pyreadstat-1.2.7-cp311-cp311-manylinux_2_17_x86_64.manylinux2014_x86_64.whl.metadata (1.0 kB)\n",
      "Requirement already satisfied: pandas>=1.2.0 in /opt/conda/lib/python3.11/site-packages (from pyreadstat) (2.1.0)\n",
      "Requirement already satisfied: numpy>=1.23.2 in /opt/conda/lib/python3.11/site-packages (from pandas>=1.2.0->pyreadstat) (1.24.4)\n",
      "Requirement already satisfied: python-dateutil>=2.8.2 in /opt/conda/lib/python3.11/site-packages (from pandas>=1.2.0->pyreadstat) (2.8.2)\n",
      "Requirement already satisfied: pytz>=2020.1 in /opt/conda/lib/python3.11/site-packages (from pandas>=1.2.0->pyreadstat) (2023.3.post1)\n",
      "Requirement already satisfied: tzdata>=2022.1 in /opt/conda/lib/python3.11/site-packages (from pandas>=1.2.0->pyreadstat) (2023.3)\n",
      "Requirement already satisfied: six>=1.5 in /opt/conda/lib/python3.11/site-packages (from python-dateutil>=2.8.2->pandas>=1.2.0->pyreadstat) (1.16.0)\n",
      "Downloading pyreadstat-1.2.7-cp311-cp311-manylinux_2_17_x86_64.manylinux2014_x86_64.whl (2.9 MB)\n",
      "\u001b[2K   \u001b[90m━━━━━━━━━━━━━━━━━━━━━━━━━━━━━━━━━━━━━━━━\u001b[0m \u001b[32m2.9/2.9 MB\u001b[0m \u001b[31m9.4 MB/s\u001b[0m eta \u001b[36m0:00:00\u001b[0m:00:01\u001b[0m00:01\u001b[0m\n",
      "\u001b[?25hInstalling collected packages: pyreadstat\n",
      "Successfully installed pyreadstat-1.2.7\n"
     ]
    }
   ],
   "source": [
    "#!pip install pyreadstat"
   ]
  },
  {
   "cell_type": "code",
   "execution_count": 6,
   "metadata": {},
   "outputs": [],
   "source": [
    "import numpy as np\n",
    "import matplotlib.pyplot as plt\n",
    "import pandas as pd\n",
    "import seaborn as sns"
   ]
  },
  {
   "cell_type": "code",
   "execution_count": 7,
   "metadata": {},
   "outputs": [
    {
     "data": {
      "text/html": [
       "<div>\n",
       "<style scoped>\n",
       "    .dataframe tbody tr th:only-of-type {\n",
       "        vertical-align: middle;\n",
       "    }\n",
       "\n",
       "    .dataframe tbody tr th {\n",
       "        vertical-align: top;\n",
       "    }\n",
       "\n",
       "    .dataframe thead th {\n",
       "        text-align: right;\n",
       "    }\n",
       "</style>\n",
       "<table border=\"1\" class=\"dataframe\">\n",
       "  <thead>\n",
       "    <tr style=\"text-align: right;\">\n",
       "      <th></th>\n",
       "      <th>panelid_2</th>\n",
       "      <th>Panel_PSU</th>\n",
       "      <th>Panel_Strata</th>\n",
       "      <th>Jun21_WeightBoost</th>\n",
       "      <th>Jun21_IntDate</th>\n",
       "      <th>Jun21_IntMode</th>\n",
       "      <th>ff_disact</th>\n",
       "      <th>Cur_GOR</th>\n",
       "      <th>cur_urbrurew</th>\n",
       "      <th>cur_urbrurs</th>\n",
       "      <th>...</th>\n",
       "      <th>FoodShopModePreCov</th>\n",
       "      <th>FoodTimePreCov</th>\n",
       "      <th>EconAct</th>\n",
       "      <th>WorkTime</th>\n",
       "      <th>WFH</th>\n",
       "      <th>CommuteMode</th>\n",
       "      <th>CommuteTime</th>\n",
       "      <th>FoodShopMode</th>\n",
       "      <th>FoodTime</th>\n",
       "      <th>Health</th>\n",
       "    </tr>\n",
       "  </thead>\n",
       "  <tbody>\n",
       "    <tr>\n",
       "      <th>0</th>\n",
       "      <td>109050.0</td>\n",
       "      <td>11801864.0</td>\n",
       "      <td>9.0</td>\n",
       "      <td>1.210115</td>\n",
       "      <td>1.384271e+10</td>\n",
       "      <td>Web</td>\n",
       "      <td>No</td>\n",
       "      <td>South West</td>\n",
       "      <td>Urban</td>\n",
       "      <td>NaN</td>\n",
       "      <td>...</td>\n",
       "      <td>Driving a car or van</td>\n",
       "      <td>15.0</td>\n",
       "      <td>In full-time education (including on vacation)</td>\n",
       "      <td>NaN</td>\n",
       "      <td>NaN</td>\n",
       "      <td>Studied from home</td>\n",
       "      <td>NaN</td>\n",
       "      <td>On foot</td>\n",
       "      <td>20.0</td>\n",
       "      <td>Very good</td>\n",
       "    </tr>\n",
       "    <tr>\n",
       "      <th>1</th>\n",
       "      <td>118890.0</td>\n",
       "      <td>11802264.0</td>\n",
       "      <td>11.0</td>\n",
       "      <td>0.904141</td>\n",
       "      <td>1.384272e+10</td>\n",
       "      <td>Web</td>\n",
       "      <td>Yes - does not affect day-to-day life</td>\n",
       "      <td>Scotland</td>\n",
       "      <td>NaN</td>\n",
       "      <td>Rural</td>\n",
       "      <td>...</td>\n",
       "      <td>Bus, minibus, or coach</td>\n",
       "      <td>40.0</td>\n",
       "      <td>In paid work (or away temporarily) for at leas...</td>\n",
       "      <td>37.0</td>\n",
       "      <td>Worked entirely at home</td>\n",
       "      <td>NaN</td>\n",
       "      <td>NaN</td>\n",
       "      <td>Bus, minibus, or coach</td>\n",
       "      <td>40.0</td>\n",
       "      <td>Bad</td>\n",
       "    </tr>\n",
       "    <tr>\n",
       "      <th>2</th>\n",
       "      <td>107526.0</td>\n",
       "      <td>11801455.0</td>\n",
       "      <td>2.0</td>\n",
       "      <td>0.385493</td>\n",
       "      <td>1.384308e+10</td>\n",
       "      <td>Web</td>\n",
       "      <td>No</td>\n",
       "      <td>North West</td>\n",
       "      <td>Urban</td>\n",
       "      <td>NaN</td>\n",
       "      <td>...</td>\n",
       "      <td>On foot</td>\n",
       "      <td>35.0</td>\n",
       "      <td>Wholly retired from work</td>\n",
       "      <td>NaN</td>\n",
       "      <td>NaN</td>\n",
       "      <td>NaN</td>\n",
       "      <td>NaN</td>\n",
       "      <td>On foot</td>\n",
       "      <td>35.0</td>\n",
       "      <td>Very good</td>\n",
       "    </tr>\n",
       "    <tr>\n",
       "      <th>3</th>\n",
       "      <td>114038.0</td>\n",
       "      <td>11900960.0</td>\n",
       "      <td>8.0</td>\n",
       "      <td>0.316471</td>\n",
       "      <td>1.384376e+10</td>\n",
       "      <td>Phone</td>\n",
       "      <td>No</td>\n",
       "      <td>South East</td>\n",
       "      <td>Rural</td>\n",
       "      <td>NaN</td>\n",
       "      <td>...</td>\n",
       "      <td>Driving a car or van</td>\n",
       "      <td>30.0</td>\n",
       "      <td>In paid work (or away temporarily) for at leas...</td>\n",
       "      <td>NaN</td>\n",
       "      <td>Worked equally at home and outside home</td>\n",
       "      <td>On foot</td>\n",
       "      <td>15.0</td>\n",
       "      <td>Driving a car or van</td>\n",
       "      <td>30.0</td>\n",
       "      <td>Very good</td>\n",
       "    </tr>\n",
       "    <tr>\n",
       "      <th>4</th>\n",
       "      <td>112090.0</td>\n",
       "      <td>11900561.0</td>\n",
       "      <td>9.0</td>\n",
       "      <td>0.273876</td>\n",
       "      <td>1.384309e+10</td>\n",
       "      <td>Web</td>\n",
       "      <td>No</td>\n",
       "      <td>South West</td>\n",
       "      <td>Rural</td>\n",
       "      <td>NaN</td>\n",
       "      <td>...</td>\n",
       "      <td>NaN</td>\n",
       "      <td>NaN</td>\n",
       "      <td>Doing something else</td>\n",
       "      <td>NaN</td>\n",
       "      <td>NaN</td>\n",
       "      <td>NaN</td>\n",
       "      <td>NaN</td>\n",
       "      <td>Driving a car or van</td>\n",
       "      <td>25.0</td>\n",
       "      <td>Good</td>\n",
       "    </tr>\n",
       "  </tbody>\n",
       "</table>\n",
       "<p>5 rows × 81 columns</p>\n",
       "</div>"
      ],
      "text/plain": [
       "   panelid_2   Panel_PSU  Panel_Strata  Jun21_WeightBoost  Jun21_IntDate  \\\n",
       "0   109050.0  11801864.0           9.0           1.210115   1.384271e+10   \n",
       "1   118890.0  11802264.0          11.0           0.904141   1.384272e+10   \n",
       "2   107526.0  11801455.0           2.0           0.385493   1.384308e+10   \n",
       "3   114038.0  11900960.0           8.0           0.316471   1.384376e+10   \n",
       "4   112090.0  11900561.0           9.0           0.273876   1.384309e+10   \n",
       "\n",
       "  Jun21_IntMode                              ff_disact     Cur_GOR  \\\n",
       "0           Web                                     No  South West   \n",
       "1           Web  Yes - does not affect day-to-day life    Scotland   \n",
       "2           Web                                     No  North West   \n",
       "3         Phone                                     No  South East   \n",
       "4           Web                                     No  South West   \n",
       "\n",
       "  cur_urbrurew cur_urbrurs  ...      FoodShopModePreCov FoodTimePreCov  \\\n",
       "0        Urban         NaN  ...    Driving a car or van           15.0   \n",
       "1          NaN       Rural  ...  Bus, minibus, or coach           40.0   \n",
       "2        Urban         NaN  ...                 On foot           35.0   \n",
       "3        Rural         NaN  ...    Driving a car or van           30.0   \n",
       "4        Rural         NaN  ...                     NaN            NaN   \n",
       "\n",
       "                                             EconAct WorkTime  \\\n",
       "0     In full-time education (including on vacation)      NaN   \n",
       "1  In paid work (or away temporarily) for at leas...     37.0   \n",
       "2                           Wholly retired from work      NaN   \n",
       "3  In paid work (or away temporarily) for at leas...      NaN   \n",
       "4                               Doing something else      NaN   \n",
       "\n",
       "                                       WFH        CommuteMode CommuteTime  \\\n",
       "0                                      NaN  Studied from home         NaN   \n",
       "1                  Worked entirely at home                NaN         NaN   \n",
       "2                                      NaN                NaN         NaN   \n",
       "3  Worked equally at home and outside home            On foot        15.0   \n",
       "4                                      NaN                NaN         NaN   \n",
       "\n",
       "             FoodShopMode FoodTime     Health  \n",
       "0                 On foot     20.0  Very good  \n",
       "1  Bus, minibus, or coach     40.0        Bad  \n",
       "2                 On foot     35.0  Very good  \n",
       "3    Driving a car or van     30.0  Very good  \n",
       "4    Driving a car or van     25.0       Good  \n",
       "\n",
       "[5 rows x 81 columns]"
      ]
     },
     "execution_count": 7,
     "metadata": {},
     "output_type": "execute_result"
    }
   ],
   "source": [
    "# read from SPSS file\n",
    "spss_df = pd.read_spss('P15644_20220301.sav')\n",
    "spss_df.head(5)"
   ]
  },
  {
   "cell_type": "code",
   "execution_count": 8,
   "metadata": {},
   "outputs": [],
   "source": [
    "import pandas as pd\n",
    "\n",
    "raw_df = pd.read_csv('P15644.csv')\n",
    "\n",
    "# set display full table\n",
    "pd.set_option('display.max_columns', None)\n",
    "pd.set_option('display.max_rows', None)"
   ]
  },
  {
   "cell_type": "code",
   "execution_count": 71,
   "metadata": {},
   "outputs": [
    {
     "data": {
      "application/vnd.jupyter.widget-view+json": {
       "model_id": "dd8a49244d8643cd946cf14f9f5d0079",
       "version_major": 2,
       "version_minor": 0
      },
      "text/plain": [
       "Button(description='Select sex', style=ButtonStyle())"
      ]
     },
     "metadata": {},
     "output_type": "display_data"
    },
    {
     "data": {
      "application/vnd.jupyter.widget-view+json": {
       "model_id": "9699edf565894700a24bade9c5b0b308",
       "version_major": 2,
       "version_minor": 0
      },
      "text/plain": [
       "Button(description='Select age', style=ButtonStyle())"
      ]
     },
     "metadata": {},
     "output_type": "display_data"
    },
    {
     "data": {
      "application/vnd.jupyter.widget-view+json": {
       "model_id": "af6e7141f22841f8b24266e162b32d86",
       "version_major": 2,
       "version_minor": 0
      },
      "text/plain": [
       "Button(description='Select income level', style=ButtonStyle())"
      ]
     },
     "metadata": {},
     "output_type": "display_data"
    },
    {
     "data": {
      "application/vnd.jupyter.widget-view+json": {
       "model_id": "204f9533db204c62b59b0eeae9f89fe0",
       "version_major": 2,
       "version_minor": 0
      },
      "text/plain": [
       "Button(description='Reset/All categories and values', style=ButtonStyle())"
      ]
     },
     "metadata": {},
     "output_type": "display_data"
    }
   ],
   "source": [
    "import ipywidgets as widgets\n",
    "from IPython.display import display\n",
    "\n",
    "\n",
    "def run_code_block_1():\n",
    "    global ori_df, raw_df\n",
    "\n",
    "    ori_df = raw_df.copy()\n",
    "    sex = 2 # 1-Male, 2-Female\n",
    "    \n",
    "    ori_df = ori_df[ori_df['Cur_Sex']==sex] \n",
    "    print('Select sex type',sex)\n",
    "    # ori_df = ori_df[ori_df['Cur_Sex']==2]\n",
    "\n",
    "def run_code_block_2():\n",
    "    global ori_df, raw_df\n",
    "    \n",
    "    ori_df = raw_df.copy()\n",
    "    age_cat_list = [3,4,5,6] # 1:18-29, 2:30-39, 3:40-49, 4:50-59, 5:60-69, 6:70+\n",
    "    ori_df = ori_df[ori_df['Cur_AgeCat'].isin(age_cat_list)] \n",
    "    print('Select age range',age_cat_list)\n",
    "    \n",
    "def run_code_block_3():\n",
    "    global ori_df, raw_df\n",
    "    \n",
    "    ori_df = raw_df.copy()\n",
    "    income_list = [1,2,3] # 1:0-1000, 2:1001-1500, 3:1501-2500, 4:2500+ (monthly)\n",
    "    ori_df = ori_df[ori_df['Cur_HHIncomeEquiv4_21_Imputed'].isin(income_list)] \n",
    "    print('Select income',income_list)\n",
    "    \n",
    "def run_code_block_4():\n",
    "    global ori_df, raw_df\n",
    "    ori_df = raw_df.copy()\n",
    "    print('Reset/All categories and values')\n",
    "\n",
    "# Creating Buttons\n",
    "button1 = widgets.Button(description=\"Select sex\")\n",
    "button2 = widgets.Button(description=\"Select age\")\n",
    "button3 = widgets.Button(description=\"Select income level\")\n",
    "button4 = widgets.Button(description=\"Reset/All categories and values\")\n",
    "\n",
    "# Define the button click event\n",
    "def on_button1_clicked(b):\n",
    "    run_code_block_1()\n",
    "\n",
    "def on_button2_clicked(b):\n",
    "    run_code_block_2()\n",
    "    \n",
    "def on_button3_clicked(b):\n",
    "    run_code_block_3()\n",
    "    \n",
    "def on_button4_clicked(b):\n",
    "    run_code_block_4()\n",
    "\n",
    "# Bind click event to buttons\n",
    "button1.on_click(on_button1_clicked)\n",
    "button2.on_click(on_button2_clicked)\n",
    "button3.on_click(on_button3_clicked)\n",
    "button4.on_click(on_button4_clicked)\n",
    "\n",
    "# Show Buttons/ choose buttons and run below\n",
    "display(button1)\n",
    "display(button2)\n",
    "display(button3)\n",
    "display(button4)"
   ]
  },
  {
   "cell_type": "markdown",
   "metadata": {},
   "source": [
    "## 1. Data cleaning"
   ]
  },
  {
   "cell_type": "markdown",
   "metadata": {},
   "source": [
    "#### Housing Cost to Income"
   ]
  },
  {
   "cell_type": "code",
   "execution_count": 12,
   "metadata": {},
   "outputs": [],
   "source": [
    "global ori_df\n",
    "\n",
    "# 98 rows have both mortcost and rentcost as null (差不多一半是全款买房，所以租金和房贷都是空值)ori_df\n",
    "ori_df['MortCost']  =ori_df['MortCost'].fillna(0)\n",
    "ori_df['RentCost']  =ori_df['RentCost'].fillna(0)\n",
    "ori_df['HousingCost'] =ori_df['MortCost'] +ori_df['RentCost'] # Monthly"
   ]
  },
  {
   "cell_type": "code",
   "execution_count": 13,
   "metadata": {},
   "outputs": [
    {
     "name": "stdout",
     "output_type": "stream",
     "text": [
      "133\n"
     ]
    }
   ],
   "source": [
    "# drop nan value\n",
    "print(ori_df['Cur_HHIncomeEquiv4_21_Imputed'].isnull().sum())\n",
    "ori_df = ori_df.dropna(subset=['Cur_HHIncomeEquiv4_21_Imputed'])"
   ]
  },
  {
   "cell_type": "code",
   "execution_count": 72,
   "metadata": {},
   "outputs": [
    {
     "data": {
      "image/png": "[encoded data removed]",
      "text/plain": [
       "<Figure size 640x480 with 1 Axes>"
      ]
     },
     "metadata": {},
     "output_type": "display_data"
    }
   ],
   "source": [
    "plt.plot([0,1,2], new_mean_group[:3], marker='o')\n",
    "plt.xlabel('Quintile Group')\n",
    "plt.ylabel('Mean Income')\n",
    "plt.title('Mean Income for Each Group')\n",
    "plt.show()"
   ]
  },
  {
   "cell_type": "code",
   "execution_count": 14,
   "metadata": {},
   "outputs": [
    {
     "name": "stdout",
     "output_type": "stream",
     "text": [
      "[705.0, 1985.0, 3455.0, 5115.0]\n"
     ]
    }
   ],
   "source": [
    "mean_group = [500, 1250, 2000, 3000]\n",
    "new_mean_group = list(map(lambda x:((x[1]+x[0])/2), [[0,1410],[1410,2560],[2560, 4350]]))\n",
    "new_mean_group.append(5115.0)\n",
    "print(new_mean_group)"
   ]
  },
  {
   "cell_type": "code",
   "execution_count": 16,
   "metadata": {},
   "outputs": [],
   "source": [
    "ori_df['Cur_HHIncome4_21_real_value'] =ori_df['Cur_HHIncome4_21_Imputed'].apply(lambda x: new_mean_group[int(x)-1])\n",
    "ori_df['HousingCostToIncome'] = ori_df['HousingCost'] / ori_df['Cur_HHIncome4_21_real_value']"
   ]
  },
  {
   "cell_type": "code",
   "execution_count": 17,
   "metadata": {},
   "outputs": [
    {
     "data": {
      "text/html": [
       "<div>\n",
       "<style scoped>\n",
       "    .dataframe tbody tr th:only-of-type {\n",
       "        vertical-align: middle;\n",
       "    }\n",
       "\n",
       "    .dataframe tbody tr th {\n",
       "        vertical-align: top;\n",
       "    }\n",
       "\n",
       "    .dataframe thead th {\n",
       "        text-align: right;\n",
       "    }\n",
       "</style>\n",
       "<table border=\"1\" class=\"dataframe\">\n",
       "  <thead>\n",
       "    <tr style=\"text-align: right;\">\n",
       "      <th></th>\n",
       "      <th>panelid_2</th>\n",
       "      <th>Panel_PSU</th>\n",
       "      <th>Panel_Strata</th>\n",
       "      <th>Jun21_WeightBoost</th>\n",
       "      <th>Jun21_IntDate</th>\n",
       "      <th>Jun21_IntMode</th>\n",
       "      <th>ff_disact</th>\n",
       "      <th>Cur_GOR</th>\n",
       "      <th>cur_urbrurew</th>\n",
       "      <th>cur_urbrurs</th>\n",
       "      <th>Cur_Sex</th>\n",
       "      <th>Cur_RClassGp</th>\n",
       "      <th>Cur_AgeCat</th>\n",
       "      <th>Cur_HEdQual</th>\n",
       "      <th>Cur_RelStat5</th>\n",
       "      <th>Cur_HHSize5</th>\n",
       "      <th>Cur_HHChild</th>\n",
       "      <th>Cur_HHType</th>\n",
       "      <th>Cur_SubjInc</th>\n",
       "      <th>Cur_HHIncome4_21</th>\n",
       "      <th>Cur_HHIncome4_21_Imputed</th>\n",
       "      <th>Cur_HHIncomeEquiv4_21</th>\n",
       "      <th>Cur_HHIncomeEquiv4_21_Imputed</th>\n",
       "      <th>Cur_IdentClass</th>\n",
       "      <th>Cur_PartyID5</th>\n",
       "      <th>Cur_Ethnic6</th>\n",
       "      <th>Cur_IntUse3</th>\n",
       "      <th>Tenure</th>\n",
       "      <th>MortCost</th>\n",
       "      <th>RentCost</th>\n",
       "      <th>CvBedRoom</th>\n",
       "      <th>HomeProb01</th>\n",
       "      <th>HomeProb02</th>\n",
       "      <th>HomeProb03</th>\n",
       "      <th>HomeProb04</th>\n",
       "      <th>HomeProb05</th>\n",
       "      <th>HomeProb06</th>\n",
       "      <th>HomeProb07</th>\n",
       "      <th>HomeProb08</th>\n",
       "      <th>HomeProb09</th>\n",
       "      <th>HomeProb10</th>\n",
       "      <th>HomeProb11</th>\n",
       "      <th>HomeProb12</th>\n",
       "      <th>HomeProb13</th>\n",
       "      <th>HomeProb14</th>\n",
       "      <th>HomeProb15</th>\n",
       "      <th>HomeProb16</th>\n",
       "      <th>HomeProb17</th>\n",
       "      <th>HomeProb_Oth</th>\n",
       "      <th>NeighQual_CrimeSafety_q</th>\n",
       "      <th>NeighQual_TrafficSafety_q</th>\n",
       "      <th>NeighQual_FoodStores_q</th>\n",
       "      <th>NeighQual_AccessPubTrans_q</th>\n",
       "      <th>NeighQual_AccessSocCult_q</th>\n",
       "      <th>NeighQual_AccessRetail_q</th>\n",
       "      <th>NeighQual_AccessRec_q</th>\n",
       "      <th>NeighQual_EaseWalk_q</th>\n",
       "      <th>NeighQual_EaseCycle_q</th>\n",
       "      <th>NeighQual_OutdoorPlay_q</th>\n",
       "      <th>NeighQual_QualitySchools_q</th>\n",
       "      <th>NeighQual_NeighbourSoc_q</th>\n",
       "      <th>MovHom</th>\n",
       "      <th>EconActPreCov1</th>\n",
       "      <th>EconActPreCov2</th>\n",
       "      <th>EconActPreCov3</th>\n",
       "      <th>EconActPreCov4</th>\n",
       "      <th>EconActPreCov5</th>\n",
       "      <th>WorkTimePreCov</th>\n",
       "      <th>WFHPreCov</th>\n",
       "      <th>CommuteModePreCov</th>\n",
       "      <th>CommuteTimePreCov</th>\n",
       "      <th>FoodShopModePreCov</th>\n",
       "      <th>FoodTimePreCov</th>\n",
       "      <th>EconAct</th>\n",
       "      <th>WorkTime</th>\n",
       "      <th>WFH</th>\n",
       "      <th>CommuteMode</th>\n",
       "      <th>CommuteTime</th>\n",
       "      <th>FoodShopMode</th>\n",
       "      <th>FoodTime</th>\n",
       "      <th>Health</th>\n",
       "      <th>HousingCost</th>\n",
       "      <th>Cur_HHIncome4_21_real_value</th>\n",
       "      <th>HousingCostToIncome</th>\n",
       "    </tr>\n",
       "  </thead>\n",
       "  <tbody>\n",
       "    <tr>\n",
       "      <th>17</th>\n",
       "      <td>112901.0</td>\n",
       "      <td>11800439.0</td>\n",
       "      <td>4.0</td>\n",
       "      <td>2.157926</td>\n",
       "      <td>1.384348e+10</td>\n",
       "      <td>Web</td>\n",
       "      <td>3.0</td>\n",
       "      <td>2.0</td>\n",
       "      <td>1.0</td>\n",
       "      <td>NaN</td>\n",
       "      <td>2.0</td>\n",
       "      <td>5.0</td>\n",
       "      <td>3.0</td>\n",
       "      <td>2.0</td>\n",
       "      <td>5.0</td>\n",
       "      <td>2.0</td>\n",
       "      <td>2.0</td>\n",
       "      <td>3.0</td>\n",
       "      <td>5.0</td>\n",
       "      <td>1.0</td>\n",
       "      <td>1.0</td>\n",
       "      <td>1.0</td>\n",
       "      <td>1.0</td>\n",
       "      <td>2.0</td>\n",
       "      <td>5.0</td>\n",
       "      <td>1.0</td>\n",
       "      <td>1.0</td>\n",
       "      <td>10.0</td>\n",
       "      <td>0.0</td>\n",
       "      <td>1000.0</td>\n",
       "      <td>2.0</td>\n",
       "      <td>0.0</td>\n",
       "      <td>0.0</td>\n",
       "      <td>1.0</td>\n",
       "      <td>0.0</td>\n",
       "      <td>0.0</td>\n",
       "      <td>1.0</td>\n",
       "      <td>1.0</td>\n",
       "      <td>0.0</td>\n",
       "      <td>0.0</td>\n",
       "      <td>0.0</td>\n",
       "      <td>0.0</td>\n",
       "      <td>0.0</td>\n",
       "      <td>1.0</td>\n",
       "      <td>0.0</td>\n",
       "      <td>0.0</td>\n",
       "      <td>0.0</td>\n",
       "      <td>0.0</td>\n",
       "      <td>NaN</td>\n",
       "      <td>5.0</td>\n",
       "      <td>5.0</td>\n",
       "      <td>5.0</td>\n",
       "      <td>2.0</td>\n",
       "      <td>5.0</td>\n",
       "      <td>5.0</td>\n",
       "      <td>5.0</td>\n",
       "      <td>4.0</td>\n",
       "      <td>5.0</td>\n",
       "      <td>5.0</td>\n",
       "      <td>4.0</td>\n",
       "      <td>4.0</td>\n",
       "      <td>1.0</td>\n",
       "      <td>1.0</td>\n",
       "      <td>0.0</td>\n",
       "      <td>0.0</td>\n",
       "      <td>0.0</td>\n",
       "      <td>0.0</td>\n",
       "      <td>60.0</td>\n",
       "      <td>5.0</td>\n",
       "      <td>1.0</td>\n",
       "      <td>90.0</td>\n",
       "      <td>9.0</td>\n",
       "      <td>90.0</td>\n",
       "      <td>3.0</td>\n",
       "      <td>37.0</td>\n",
       "      <td>5.0</td>\n",
       "      <td>9.0</td>\n",
       "      <td>30.0</td>\n",
       "      <td>9.0</td>\n",
       "      <td>90.0</td>\n",
       "      <td>4.0</td>\n",
       "      <td>1000.0</td>\n",
       "      <td>705.0</td>\n",
       "      <td>1.418440</td>\n",
       "    </tr>\n",
       "    <tr>\n",
       "      <th>23</th>\n",
       "      <td>103573.0</td>\n",
       "      <td>11502502.0</td>\n",
       "      <td>7.0</td>\n",
       "      <td>0.290508</td>\n",
       "      <td>1.384393e+10</td>\n",
       "      <td>Web</td>\n",
       "      <td>3.0</td>\n",
       "      <td>7.0</td>\n",
       "      <td>1.0</td>\n",
       "      <td>NaN</td>\n",
       "      <td>2.0</td>\n",
       "      <td>3.0</td>\n",
       "      <td>5.0</td>\n",
       "      <td>1.0</td>\n",
       "      <td>3.0</td>\n",
       "      <td>1.0</td>\n",
       "      <td>2.0</td>\n",
       "      <td>1.0</td>\n",
       "      <td>5.0</td>\n",
       "      <td>1.0</td>\n",
       "      <td>1.0</td>\n",
       "      <td>1.0</td>\n",
       "      <td>1.0</td>\n",
       "      <td>2.0</td>\n",
       "      <td>2.0</td>\n",
       "      <td>1.0</td>\n",
       "      <td>1.0</td>\n",
       "      <td>10.0</td>\n",
       "      <td>0.0</td>\n",
       "      <td>880.0</td>\n",
       "      <td>1.0</td>\n",
       "      <td>1.0</td>\n",
       "      <td>0.0</td>\n",
       "      <td>0.0</td>\n",
       "      <td>0.0</td>\n",
       "      <td>0.0</td>\n",
       "      <td>0.0</td>\n",
       "      <td>0.0</td>\n",
       "      <td>0.0</td>\n",
       "      <td>0.0</td>\n",
       "      <td>0.0</td>\n",
       "      <td>0.0</td>\n",
       "      <td>0.0</td>\n",
       "      <td>0.0</td>\n",
       "      <td>0.0</td>\n",
       "      <td>0.0</td>\n",
       "      <td>0.0</td>\n",
       "      <td>0.0</td>\n",
       "      <td>NaN</td>\n",
       "      <td>4.0</td>\n",
       "      <td>4.0</td>\n",
       "      <td>2.0</td>\n",
       "      <td>1.0</td>\n",
       "      <td>3.0</td>\n",
       "      <td>2.0</td>\n",
       "      <td>2.0</td>\n",
       "      <td>3.0</td>\n",
       "      <td>2.0</td>\n",
       "      <td>4.0</td>\n",
       "      <td>3.0</td>\n",
       "      <td>2.0</td>\n",
       "      <td>2.0</td>\n",
       "      <td>1.0</td>\n",
       "      <td>0.0</td>\n",
       "      <td>0.0</td>\n",
       "      <td>0.0</td>\n",
       "      <td>0.0</td>\n",
       "      <td>50.0</td>\n",
       "      <td>5.0</td>\n",
       "      <td>1.0</td>\n",
       "      <td>45.0</td>\n",
       "      <td>8.0</td>\n",
       "      <td>10.0</td>\n",
       "      <td>5.0</td>\n",
       "      <td>NaN</td>\n",
       "      <td>NaN</td>\n",
       "      <td>NaN</td>\n",
       "      <td>NaN</td>\n",
       "      <td>8.0</td>\n",
       "      <td>45.0</td>\n",
       "      <td>2.0</td>\n",
       "      <td>880.0</td>\n",
       "      <td>705.0</td>\n",
       "      <td>1.248227</td>\n",
       "    </tr>\n",
       "    <tr>\n",
       "      <th>24</th>\n",
       "      <td>101866.0</td>\n",
       "      <td>11800514.0</td>\n",
       "      <td>5.0</td>\n",
       "      <td>5.172297</td>\n",
       "      <td>1.384383e+10</td>\n",
       "      <td>Web</td>\n",
       "      <td>3.0</td>\n",
       "      <td>5.0</td>\n",
       "      <td>1.0</td>\n",
       "      <td>NaN</td>\n",
       "      <td>2.0</td>\n",
       "      <td>1.0</td>\n",
       "      <td>1.0</td>\n",
       "      <td>2.0</td>\n",
       "      <td>1.0</td>\n",
       "      <td>2.0</td>\n",
       "      <td>2.0</td>\n",
       "      <td>3.0</td>\n",
       "      <td>1.0</td>\n",
       "      <td>1.0</td>\n",
       "      <td>1.0</td>\n",
       "      <td>1.0</td>\n",
       "      <td>1.0</td>\n",
       "      <td>2.0</td>\n",
       "      <td>2.0</td>\n",
       "      <td>5.0</td>\n",
       "      <td>1.0</td>\n",
       "      <td>10.0</td>\n",
       "      <td>0.0</td>\n",
       "      <td>900.0</td>\n",
       "      <td>2.0</td>\n",
       "      <td>1.0</td>\n",
       "      <td>0.0</td>\n",
       "      <td>1.0</td>\n",
       "      <td>0.0</td>\n",
       "      <td>0.0</td>\n",
       "      <td>0.0</td>\n",
       "      <td>0.0</td>\n",
       "      <td>1.0</td>\n",
       "      <td>0.0</td>\n",
       "      <td>0.0</td>\n",
       "      <td>0.0</td>\n",
       "      <td>0.0</td>\n",
       "      <td>0.0</td>\n",
       "      <td>0.0</td>\n",
       "      <td>0.0</td>\n",
       "      <td>0.0</td>\n",
       "      <td>0.0</td>\n",
       "      <td>NaN</td>\n",
       "      <td>5.0</td>\n",
       "      <td>4.0</td>\n",
       "      <td>3.0</td>\n",
       "      <td>1.0</td>\n",
       "      <td>5.0</td>\n",
       "      <td>4.0</td>\n",
       "      <td>5.0</td>\n",
       "      <td>2.0</td>\n",
       "      <td>4.0</td>\n",
       "      <td>5.0</td>\n",
       "      <td>5.0</td>\n",
       "      <td>5.0</td>\n",
       "      <td>2.0</td>\n",
       "      <td>1.0</td>\n",
       "      <td>0.0</td>\n",
       "      <td>0.0</td>\n",
       "      <td>0.0</td>\n",
       "      <td>0.0</td>\n",
       "      <td>37.0</td>\n",
       "      <td>5.0</td>\n",
       "      <td>9.0</td>\n",
       "      <td>30.0</td>\n",
       "      <td>6.0</td>\n",
       "      <td>20.0</td>\n",
       "      <td>3.0</td>\n",
       "      <td>37.0</td>\n",
       "      <td>1.0</td>\n",
       "      <td>NaN</td>\n",
       "      <td>NaN</td>\n",
       "      <td>6.0</td>\n",
       "      <td>40.0</td>\n",
       "      <td>1.0</td>\n",
       "      <td>900.0</td>\n",
       "      <td>705.0</td>\n",
       "      <td>1.276596</td>\n",
       "    </tr>\n",
       "    <tr>\n",
       "      <th>26</th>\n",
       "      <td>119064.0</td>\n",
       "      <td>12001155.0</td>\n",
       "      <td>7.0</td>\n",
       "      <td>1.083894</td>\n",
       "      <td>1.384304e+10</td>\n",
       "      <td>Web</td>\n",
       "      <td>3.0</td>\n",
       "      <td>7.0</td>\n",
       "      <td>1.0</td>\n",
       "      <td>NaN</td>\n",
       "      <td>1.0</td>\n",
       "      <td>1.0</td>\n",
       "      <td>2.0</td>\n",
       "      <td>1.0</td>\n",
       "      <td>1.0</td>\n",
       "      <td>4.0</td>\n",
       "      <td>NaN</td>\n",
       "      <td>4.0</td>\n",
       "      <td>5.0</td>\n",
       "      <td>NaN</td>\n",
       "      <td>1.0</td>\n",
       "      <td>NaN</td>\n",
       "      <td>1.0</td>\n",
       "      <td>2.0</td>\n",
       "      <td>2.0</td>\n",
       "      <td>4.0</td>\n",
       "      <td>2.0</td>\n",
       "      <td>10.0</td>\n",
       "      <td>0.0</td>\n",
       "      <td>1300.0</td>\n",
       "      <td>3.0</td>\n",
       "      <td>0.0</td>\n",
       "      <td>0.0</td>\n",
       "      <td>0.0</td>\n",
       "      <td>0.0</td>\n",
       "      <td>0.0</td>\n",
       "      <td>1.0</td>\n",
       "      <td>0.0</td>\n",
       "      <td>0.0</td>\n",
       "      <td>0.0</td>\n",
       "      <td>1.0</td>\n",
       "      <td>0.0</td>\n",
       "      <td>0.0</td>\n",
       "      <td>0.0</td>\n",
       "      <td>0.0</td>\n",
       "      <td>0.0</td>\n",
       "      <td>0.0</td>\n",
       "      <td>0.0</td>\n",
       "      <td>NaN</td>\n",
       "      <td>4.0</td>\n",
       "      <td>4.0</td>\n",
       "      <td>3.0</td>\n",
       "      <td>2.0</td>\n",
       "      <td>4.0</td>\n",
       "      <td>5.0</td>\n",
       "      <td>2.0</td>\n",
       "      <td>1.0</td>\n",
       "      <td>2.0</td>\n",
       "      <td>3.0</td>\n",
       "      <td>1.0</td>\n",
       "      <td>3.0</td>\n",
       "      <td>2.0</td>\n",
       "      <td>0.0</td>\n",
       "      <td>0.0</td>\n",
       "      <td>1.0</td>\n",
       "      <td>0.0</td>\n",
       "      <td>0.0</td>\n",
       "      <td>NaN</td>\n",
       "      <td>NaN</td>\n",
       "      <td>NaN</td>\n",
       "      <td>NaN</td>\n",
       "      <td>3.0</td>\n",
       "      <td>30.0</td>\n",
       "      <td>5.0</td>\n",
       "      <td>NaN</td>\n",
       "      <td>NaN</td>\n",
       "      <td>NaN</td>\n",
       "      <td>NaN</td>\n",
       "      <td>3.0</td>\n",
       "      <td>35.0</td>\n",
       "      <td>3.0</td>\n",
       "      <td>1300.0</td>\n",
       "      <td>705.0</td>\n",
       "      <td>1.843972</td>\n",
       "    </tr>\n",
       "    <tr>\n",
       "      <th>28</th>\n",
       "      <td>112800.0</td>\n",
       "      <td>12000788.0</td>\n",
       "      <td>6.0</td>\n",
       "      <td>1.051764</td>\n",
       "      <td>1.384281e+10</td>\n",
       "      <td>Web</td>\n",
       "      <td>3.0</td>\n",
       "      <td>6.0</td>\n",
       "      <td>1.0</td>\n",
       "      <td>NaN</td>\n",
       "      <td>1.0</td>\n",
       "      <td>1.0</td>\n",
       "      <td>1.0</td>\n",
       "      <td>3.0</td>\n",
       "      <td>5.0</td>\n",
       "      <td>2.0</td>\n",
       "      <td>1.0</td>\n",
       "      <td>2.0</td>\n",
       "      <td>3.0</td>\n",
       "      <td>1.0</td>\n",
       "      <td>1.0</td>\n",
       "      <td>1.0</td>\n",
       "      <td>1.0</td>\n",
       "      <td>2.0</td>\n",
       "      <td>5.0</td>\n",
       "      <td>1.0</td>\n",
       "      <td>1.0</td>\n",
       "      <td>10.0</td>\n",
       "      <td>0.0</td>\n",
       "      <td>850.0</td>\n",
       "      <td>3.0</td>\n",
       "      <td>1.0</td>\n",
       "      <td>0.0</td>\n",
       "      <td>1.0</td>\n",
       "      <td>1.0</td>\n",
       "      <td>0.0</td>\n",
       "      <td>0.0</td>\n",
       "      <td>0.0</td>\n",
       "      <td>0.0</td>\n",
       "      <td>0.0</td>\n",
       "      <td>0.0</td>\n",
       "      <td>0.0</td>\n",
       "      <td>1.0</td>\n",
       "      <td>1.0</td>\n",
       "      <td>0.0</td>\n",
       "      <td>0.0</td>\n",
       "      <td>0.0</td>\n",
       "      <td>0.0</td>\n",
       "      <td>NaN</td>\n",
       "      <td>4.0</td>\n",
       "      <td>3.0</td>\n",
       "      <td>4.0</td>\n",
       "      <td>2.0</td>\n",
       "      <td>1.0</td>\n",
       "      <td>3.0</td>\n",
       "      <td>2.0</td>\n",
       "      <td>3.0</td>\n",
       "      <td>2.0</td>\n",
       "      <td>3.0</td>\n",
       "      <td>3.0</td>\n",
       "      <td>2.0</td>\n",
       "      <td>2.0</td>\n",
       "      <td>1.0</td>\n",
       "      <td>0.0</td>\n",
       "      <td>0.0</td>\n",
       "      <td>0.0</td>\n",
       "      <td>0.0</td>\n",
       "      <td>30.0</td>\n",
       "      <td>5.0</td>\n",
       "      <td>9.0</td>\n",
       "      <td>20.0</td>\n",
       "      <td>9.0</td>\n",
       "      <td>30.0</td>\n",
       "      <td>3.0</td>\n",
       "      <td>28.0</td>\n",
       "      <td>5.0</td>\n",
       "      <td>9.0</td>\n",
       "      <td>20.0</td>\n",
       "      <td>9.0</td>\n",
       "      <td>30.0</td>\n",
       "      <td>3.0</td>\n",
       "      <td>850.0</td>\n",
       "      <td>705.0</td>\n",
       "      <td>1.205674</td>\n",
       "    </tr>\n",
       "  </tbody>\n",
       "</table>\n",
       "</div>"
      ],
      "text/plain": [
       "    panelid_2   Panel_PSU  Panel_Strata  Jun21_WeightBoost  Jun21_IntDate  \\\n",
       "17   112901.0  11800439.0           4.0           2.157926   1.384348e+10   \n",
       "23   103573.0  11502502.0           7.0           0.290508   1.384393e+10   \n",
       "24   101866.0  11800514.0           5.0           5.172297   1.384383e+10   \n",
       "26   119064.0  12001155.0           7.0           1.083894   1.384304e+10   \n",
       "28   112800.0  12000788.0           6.0           1.051764   1.384281e+10   \n",
       "\n",
       "   Jun21_IntMode  ff_disact  Cur_GOR  cur_urbrurew  cur_urbrurs  Cur_Sex  \\\n",
       "17           Web        3.0      2.0           1.0          NaN      2.0   \n",
       "23           Web        3.0      7.0           1.0          NaN      2.0   \n",
       "24           Web        3.0      5.0           1.0          NaN      2.0   \n",
       "26           Web        3.0      7.0           1.0          NaN      1.0   \n",
       "28           Web        3.0      6.0           1.0          NaN      1.0   \n",
       "\n",
       "    Cur_RClassGp  Cur_AgeCat  Cur_HEdQual  Cur_RelStat5  Cur_HHSize5  \\\n",
       "17           5.0         3.0          2.0           5.0          2.0   \n",
       "23           3.0         5.0          1.0           3.0          1.0   \n",
       "24           1.0         1.0          2.0           1.0          2.0   \n",
       "26           1.0         2.0          1.0           1.0          4.0   \n",
       "28           1.0         1.0          3.0           5.0          2.0   \n",
       "\n",
       "    Cur_HHChild  Cur_HHType  Cur_SubjInc  Cur_HHIncome4_21  \\\n",
       "17          2.0         3.0          5.0               1.0   \n",
       "23          2.0         1.0          5.0               1.0   \n",
       "24          2.0         3.0          1.0               1.0   \n",
       "26          NaN         4.0          5.0               NaN   \n",
       "28          1.0         2.0          3.0               1.0   \n",
       "\n",
       "    Cur_HHIncome4_21_Imputed  Cur_HHIncomeEquiv4_21  \\\n",
       "17                       1.0                    1.0   \n",
       "23                       1.0                    1.0   \n",
       "24                       1.0                    1.0   \n",
       "26                       1.0                    NaN   \n",
       "28                       1.0                    1.0   \n",
       "\n",
       "    Cur_HHIncomeEquiv4_21_Imputed  Cur_IdentClass  Cur_PartyID5  Cur_Ethnic6  \\\n",
       "17                            1.0             2.0           5.0          1.0   \n",
       "23                            1.0             2.0           2.0          1.0   \n",
       "24                            1.0             2.0           2.0          5.0   \n",
       "26                            1.0             2.0           2.0          4.0   \n",
       "28                            1.0             2.0           5.0          1.0   \n",
       "\n",
       "    Cur_IntUse3  Tenure  MortCost  RentCost  CvBedRoom  HomeProb01  \\\n",
       "17          1.0    10.0       0.0    1000.0        2.0         0.0   \n",
       "23          1.0    10.0       0.0     880.0        1.0         1.0   \n",
       "24          1.0    10.0       0.0     900.0        2.0         1.0   \n",
       "26          2.0    10.0       0.0    1300.0        3.0         0.0   \n",
       "28          1.0    10.0       0.0     850.0        3.0         1.0   \n",
       "\n",
       "    HomeProb02  HomeProb03  HomeProb04  HomeProb05  HomeProb06  HomeProb07  \\\n",
       "17         0.0         1.0         0.0         0.0         1.0         1.0   \n",
       "23         0.0         0.0         0.0         0.0         0.0         0.0   \n",
       "24         0.0         1.0         0.0         0.0         0.0         0.0   \n",
       "26         0.0         0.0         0.0         0.0         1.0         0.0   \n",
       "28         0.0         1.0         1.0         0.0         0.0         0.0   \n",
       "\n",
       "    HomeProb08  HomeProb09  HomeProb10  HomeProb11  HomeProb12  HomeProb13  \\\n",
       "17         0.0         0.0         0.0         0.0         0.0         1.0   \n",
       "23         0.0         0.0         0.0         0.0         0.0         0.0   \n",
       "24         1.0         0.0         0.0         0.0         0.0         0.0   \n",
       "26         0.0         0.0         1.0         0.0         0.0         0.0   \n",
       "28         0.0         0.0         0.0         0.0         1.0         1.0   \n",
       "\n",
       "    HomeProb14  HomeProb15  HomeProb16  HomeProb17 HomeProb_Oth  \\\n",
       "17         0.0         0.0         0.0         0.0          NaN   \n",
       "23         0.0         0.0         0.0         0.0          NaN   \n",
       "24         0.0         0.0         0.0         0.0          NaN   \n",
       "26         0.0         0.0         0.0         0.0          NaN   \n",
       "28         0.0         0.0         0.0         0.0          NaN   \n",
       "\n",
       "    NeighQual_CrimeSafety_q  NeighQual_TrafficSafety_q  \\\n",
       "17                      5.0                        5.0   \n",
       "23                      4.0                        4.0   \n",
       "24                      5.0                        4.0   \n",
       "26                      4.0                        4.0   \n",
       "28                      4.0                        3.0   \n",
       "\n",
       "    NeighQual_FoodStores_q  NeighQual_AccessPubTrans_q  \\\n",
       "17                     5.0                         2.0   \n",
       "23                     2.0                         1.0   \n",
       "24                     3.0                         1.0   \n",
       "26                     3.0                         2.0   \n",
       "28                     4.0                         2.0   \n",
       "\n",
       "    NeighQual_AccessSocCult_q  NeighQual_AccessRetail_q  \\\n",
       "17                        5.0                       5.0   \n",
       "23                        3.0                       2.0   \n",
       "24                        5.0                       4.0   \n",
       "26                        4.0                       5.0   \n",
       "28                        1.0                       3.0   \n",
       "\n",
       "    NeighQual_AccessRec_q  NeighQual_EaseWalk_q  NeighQual_EaseCycle_q  \\\n",
       "17                    5.0                   4.0                    5.0   \n",
       "23                    2.0                   3.0                    2.0   \n",
       "24                    5.0                   2.0                    4.0   \n",
       "26                    2.0                   1.0                    2.0   \n",
       "28                    2.0                   3.0                    2.0   \n",
       "\n",
       "    NeighQual_OutdoorPlay_q  NeighQual_QualitySchools_q  \\\n",
       "17                      5.0                         4.0   \n",
       "23                      4.0                         3.0   \n",
       "24                      5.0                         5.0   \n",
       "26                      3.0                         1.0   \n",
       "28                      3.0                         3.0   \n",
       "\n",
       "    NeighQual_NeighbourSoc_q  MovHom  EconActPreCov1  EconActPreCov2  \\\n",
       "17                       4.0     1.0             1.0             0.0   \n",
       "23                       2.0     2.0             1.0             0.0   \n",
       "24                       5.0     2.0             1.0             0.0   \n",
       "26                       3.0     2.0             0.0             0.0   \n",
       "28                       2.0     2.0             1.0             0.0   \n",
       "\n",
       "    EconActPreCov3  EconActPreCov4  EconActPreCov5  WorkTimePreCov  WFHPreCov  \\\n",
       "17             0.0             0.0             0.0            60.0        5.0   \n",
       "23             0.0             0.0             0.0            50.0        5.0   \n",
       "24             0.0             0.0             0.0            37.0        5.0   \n",
       "26             1.0             0.0             0.0             NaN        NaN   \n",
       "28             0.0             0.0             0.0            30.0        5.0   \n",
       "\n",
       "    CommuteModePreCov  CommuteTimePreCov  FoodShopModePreCov  FoodTimePreCov  \\\n",
       "17                1.0               90.0                 9.0            90.0   \n",
       "23                1.0               45.0                 8.0            10.0   \n",
       "24                9.0               30.0                 6.0            20.0   \n",
       "26                NaN                NaN                 3.0            30.0   \n",
       "28                9.0               20.0                 9.0            30.0   \n",
       "\n",
       "    EconAct  WorkTime  WFH  CommuteMode  CommuteTime  FoodShopMode  FoodTime  \\\n",
       "17      3.0      37.0  5.0          9.0         30.0           9.0      90.0   \n",
       "23      5.0       NaN  NaN          NaN          NaN           8.0      45.0   \n",
       "24      3.0      37.0  1.0          NaN          NaN           6.0      40.0   \n",
       "26      5.0       NaN  NaN          NaN          NaN           3.0      35.0   \n",
       "28      3.0      28.0  5.0          9.0         20.0           9.0      30.0   \n",
       "\n",
       "    Health  HousingCost  Cur_HHIncome4_21_real_value  HousingCostToIncome  \n",
       "17     4.0       1000.0                        705.0             1.418440  \n",
       "23     2.0        880.0                        705.0             1.248227  \n",
       "24     1.0        900.0                        705.0             1.276596  \n",
       "26     3.0       1300.0                        705.0             1.843972  \n",
       "28     3.0        850.0                        705.0             1.205674  "
      ]
     },
     "execution_count": 17,
     "metadata": {},
     "output_type": "execute_result"
    }
   ],
   "source": [
    "ori_df[ori_df['HousingCostToIncome'] > 1].head(5)"
   ]
  },
  {
   "cell_type": "markdown",
   "metadata": {},
   "source": [
    "#### Home Problem"
   ]
  },
  {
   "cell_type": "code",
   "execution_count": 18,
   "metadata": {},
   "outputs": [],
   "source": [
    "# define 'HomeProbTotal' as the sum of 'HomeProb01' to 'HomeProb14'\n",
    "ori_df['HomeProbTotal'] = ori_df.loc[:, 'HomeProb01':'HomeProb14'].sum(axis=1)"
   ]
  },
  {
   "cell_type": "markdown",
   "metadata": {},
   "source": [
    "#### Neighbor Quality"
   ]
  },
  {
   "cell_type": "code",
   "execution_count": 19,
   "metadata": {},
   "outputs": [
    {
     "name": "stdout",
     "output_type": "stream",
     "text": [
      "NeighQual_CrimeSafety_q       0\n",
      "NeighQual_TrafficSafety_q     0\n",
      "NeighQual_FoodStores_q        0\n",
      "NeighQual_AccessPubTrans_q    0\n",
      "NeighQual_AccessSocCult_q     0\n",
      "NeighQual_AccessRetail_q      0\n",
      "NeighQual_AccessRec_q         0\n",
      "NeighQual_EaseWalk_q          0\n",
      "NeighQual_EaseCycle_q         0\n",
      "NeighQual_OutdoorPlay_q       0\n",
      "NeighQual_QualitySchools_q    0\n",
      "NeighQual_NeighbourSoc_q      0\n",
      "dtype: int64\n"
     ]
    }
   ],
   "source": [
    "# drop nan value (80 missing values)\n",
    "ori_df = ori_df.dropna(subset=['NeighQual_CrimeSafety_q', 'NeighQual_TrafficSafety_q', 'NeighQual_FoodStores_q',\n",
    "       'NeighQual_AccessPubTrans_q', 'NeighQual_AccessSocCult_q',\n",
    "       'NeighQual_AccessRetail_q', 'NeighQual_AccessRec_q',\n",
    "       'NeighQual_EaseWalk_q', 'NeighQual_EaseCycle_q',\n",
    "       'NeighQual_OutdoorPlay_q', 'NeighQual_QualitySchools_q',\n",
    "       'NeighQual_NeighbourSoc_q'])\n",
    "\n",
    "print(ori_df.loc[:, 'NeighQual_CrimeSafety_q':'NeighQual_NeighbourSoc_q'].isnull().sum())\n",
    "\n",
    "ori_df['NeighQualTotal'] = ori_df.loc[:, 'NeighQual_CrimeSafety_q':'NeighQual_NeighbourSoc_q'].sum(axis=1)"
   ]
  },
  {
   "cell_type": "code",
   "execution_count": 20,
   "metadata": {},
   "outputs": [
    {
     "name": "stderr",
     "output_type": "stream",
     "text": [
      "/opt/conda/lib/python3.11/site-packages/seaborn/_oldcore.py:1498: FutureWarning: is_categorical_dtype is deprecated and will be removed in a future version. Use isinstance(dtype, CategoricalDtype) instead\n",
      "  if pd.api.types.is_categorical_dtype(vector):\n",
      "/opt/conda/lib/python3.11/site-packages/seaborn/_oldcore.py:1119: FutureWarning: use_inf_as_na option is deprecated and will be removed in a future version. Convert inf values to NaN before operating instead.\n",
      "  with pd.option_context('mode.use_inf_as_na', True):\n",
      "/opt/conda/lib/python3.11/site-packages/seaborn/_oldcore.py:1498: FutureWarning: is_categorical_dtype is deprecated and will be removed in a future version. Use isinstance(dtype, CategoricalDtype) instead\n",
      "  if pd.api.types.is_categorical_dtype(vector):\n",
      "/opt/conda/lib/python3.11/site-packages/seaborn/_oldcore.py:1119: FutureWarning: use_inf_as_na option is deprecated and will be removed in a future version. Convert inf values to NaN before operating instead.\n",
      "  with pd.option_context('mode.use_inf_as_na', True):\n",
      "/opt/conda/lib/python3.11/site-packages/seaborn/_oldcore.py:1498: FutureWarning: is_categorical_dtype is deprecated and will be removed in a future version. Use isinstance(dtype, CategoricalDtype) instead\n",
      "  if pd.api.types.is_categorical_dtype(vector):\n",
      "/opt/conda/lib/python3.11/site-packages/seaborn/_oldcore.py:1119: FutureWarning: use_inf_as_na option is deprecated and will be removed in a future version. Convert inf values to NaN before operating instead.\n",
      "  with pd.option_context('mode.use_inf_as_na', True):\n",
      "/opt/conda/lib/python3.11/site-packages/seaborn/_oldcore.py:1498: FutureWarning: is_categorical_dtype is deprecated and will be removed in a future version. Use isinstance(dtype, CategoricalDtype) instead\n",
      "  if pd.api.types.is_categorical_dtype(vector):\n",
      "/opt/conda/lib/python3.11/site-packages/seaborn/_oldcore.py:1119: FutureWarning: use_inf_as_na option is deprecated and will be removed in a future version. Convert inf values to NaN before operating instead.\n",
      "  with pd.option_context('mode.use_inf_as_na', True):\n",
      "/opt/conda/lib/python3.11/site-packages/seaborn/_oldcore.py:1498: FutureWarning: is_categorical_dtype is deprecated and will be removed in a future version. Use isinstance(dtype, CategoricalDtype) instead\n",
      "  if pd.api.types.is_categorical_dtype(vector):\n",
      "/opt/conda/lib/python3.11/site-packages/seaborn/_oldcore.py:1119: FutureWarning: use_inf_as_na option is deprecated and will be removed in a future version. Convert inf values to NaN before operating instead.\n",
      "  with pd.option_context('mode.use_inf_as_na', True):\n"
     ]
    },
    {
     "data": {
      "image/png": "[encoded data removed]",
      "text/plain": [
       "<Figure size 2000x400 with 5 Axes>"
      ]
     },
     "metadata": {},
     "output_type": "display_data"
    }
   ],
   "source": [
    "# plot for 'HousingCostToIncome'、'HomeProbTotal' 、 'NeighQualTotal' 、'TransportTime'\n",
    "# plot in one figure \n",
    "fig, axes = plt.subplots(1, 5, figsize=(20, 4))\n",
    "sns.histplot(ori_df['HousingCostToIncome'], ax=axes[0])\n",
    "sns.histplot(ori_df['HomeProbTotal'], ax=axes[1])\n",
    "sns.histplot(ori_df['NeighQualTotal'], ax=axes[2])\n",
    "sns.histplot(ori_df['CommuteTimePreCov'], ax=axes[3])\n",
    "sns.histplot(ori_df['FoodTimePreCov'], ax=axes[4])\n",
    "plt.show()\n"
   ]
  },
  {
   "cell_type": "code",
   "execution_count": 21,
   "metadata": {},
   "outputs": [
    {
     "name": "stderr",
     "output_type": "stream",
     "text": [
      "/opt/conda/lib/python3.11/site-packages/seaborn/_oldcore.py:1498: FutureWarning: is_categorical_dtype is deprecated and will be removed in a future version. Use isinstance(dtype, CategoricalDtype) instead\n",
      "  if pd.api.types.is_categorical_dtype(vector):\n",
      "/opt/conda/lib/python3.11/site-packages/seaborn/_oldcore.py:1119: FutureWarning: use_inf_as_na option is deprecated and will be removed in a future version. Convert inf values to NaN before operating instead.\n",
      "  with pd.option_context('mode.use_inf_as_na', True):\n"
     ]
    },
    {
     "data": {
      "text/plain": [
       "<Axes: xlabel='Health', ylabel='Count'>"
      ]
     },
     "execution_count": 21,
     "metadata": {},
     "output_type": "execute_result"
    },
    {
     "data": {
      "image/png": "[encoded data removed]",
      "text/plain": [
       "<Figure size 640x480 with 1 Axes>"
      ]
     },
     "metadata": {},
     "output_type": "display_data"
    }
   ],
   "source": [
    "sns.histplot(ori_df['Health'])"
   ]
  },
  {
   "cell_type": "code",
   "execution_count": 22,
   "metadata": {},
   "outputs": [],
   "source": [
    "# HousingCostToIncome、NeighQualTotal、CommuteTimePreCov、FoodTimePreCov呈现出右偏态分布特点，数据主要集中于左侧，说明大部分人的房屋支出占收入比例、邻里质量、通勤时间、食物准备时间都比较低，剥夺程度低？\n",
    "# HomeProbTotal呈现出长尾分布特点，说明大多数人住房问题并不严重\n"
   ]
  },
  {
   "cell_type": "markdown",
   "metadata": {},
   "source": [
    "## 2. Variable transformation "
   ]
  },
  {
   "cell_type": "markdown",
   "metadata": {},
   "source": [
    "#### Housing Cost to Income"
   ]
  },
  {
   "cell_type": "code",
   "execution_count": 23,
   "metadata": {},
   "outputs": [
    {
     "name": "stdout",
     "output_type": "stream",
     "text": [
      "HousingCostToIncomeGroup\n",
      "0.0    1422\n",
      "3.0     578\n",
      "1.0     320\n",
      "2.0     244\n",
      "Name: count, dtype: int64\n"
     ]
    }
   ],
   "source": [
    "ori_df['HousingCostToIncomeGroup'] = pd.cut(ori_df['HousingCostToIncome'], bins=[-1, 0.3, 0.4, 0.5,100], labels=[0,1,2,3])\n",
    "ori_df['HousingCostToIncomeGroup'] = ori_df['HousingCostToIncomeGroup'].astype(float)\n",
    "print(ori_df['HousingCostToIncomeGroup'].value_counts())"
   ]
  },
  {
   "cell_type": "markdown",
   "metadata": {},
   "source": [
    "#### HomeProbTotal"
   ]
  },
  {
   "cell_type": "code",
   "execution_count": 24,
   "metadata": {},
   "outputs": [
    {
     "name": "stdout",
     "output_type": "stream",
     "text": [
      "               Count  Percentage\n",
      "HomeProbTotal                   \n",
      "0.0             1264   49.297972\n",
      "1.0              565   22.035881\n",
      "2.0              346   13.494540\n",
      "3.0              169    6.591264\n",
      "4.0               99    3.861154\n",
      "5.0               51    1.989080\n",
      "6.0               36    1.404056\n",
      "7.0               14    0.546022\n",
      "8.0                9    0.351014\n",
      "9.0                7    0.273011\n",
      "10.0               2    0.078003\n",
      "11.0               2    0.078003\n"
     ]
    }
   ],
   "source": [
    "# Calculate the counts & percentage of each unique value in 'HomeProbTotal'\n",
    "home_prob_total_counts = ori_df['HomeProbTotal'].value_counts()\n",
    "home_prob_total_percentage = ori_df['HomeProbTotal'].value_counts(normalize=True) * 100\n",
    "\n",
    "home_prob_total_summary = pd.DataFrame({\n",
    "    'Count': home_prob_total_counts,\n",
    "    'Percentage': home_prob_total_percentage\n",
    "})\n",
    "\n",
    "print(home_prob_total_summary)"
   ]
  },
  {
   "cell_type": "code",
   "execution_count": 25,
   "metadata": {},
   "outputs": [
    {
     "name": "stdout",
     "output_type": "stream",
     "text": [
      "HomeProbTotalGroup\n",
      "0.0    1264\n",
      "1.0     911\n",
      "2.0     319\n",
      "3.0      70\n",
      "Name: count, dtype: int64\n"
     ]
    }
   ],
   "source": [
    "# 按HomeProbTotal为0,1-2,3-5,大于6进行分组\n",
    "ori_df['HomeProbTotalGroup'] = pd.cut(ori_df['HomeProbTotal'], bins=[-1, 0, 2, 5, 100], labels=[0, 1, 2, 3])\n",
    "ori_df['HomeProbTotalGroup'] = ori_df['HomeProbTotalGroup'].astype(float)\n",
    "print(ori_df['HomeProbTotalGroup'].value_counts())"
   ]
  },
  {
   "cell_type": "markdown",
   "metadata": {},
   "source": [
    "#### NeighQualTotal"
   ]
  },
  {
   "cell_type": "code",
   "execution_count": 26,
   "metadata": {
    "scrolled": true
   },
   "outputs": [
    {
     "name": "stdout",
     "output_type": "stream",
     "text": [
      "                Count  Percentage\n",
      "NeighQualTotal                   \n",
      "12.0               20    0.780031\n",
      "13.0               15    0.585023\n",
      "14.0               14    0.546022\n",
      "15.0               34    1.326053\n",
      "16.0               38    1.482059\n",
      "17.0               48    1.872075\n",
      "18.0               63    2.457098\n",
      "19.0               81    3.159126\n",
      "20.0               77    3.003120\n",
      "21.0              114    4.446178\n",
      "22.0              123    4.797192\n",
      "23.0              128    4.992200\n",
      "24.0              175    6.825273\n",
      "25.0              183    7.137285\n",
      "26.0              160    6.240250\n",
      "27.0              149    5.811232\n",
      "28.0              146    5.694228\n",
      "29.0              136    5.304212\n",
      "30.0              127    4.953198\n",
      "31.0              128    4.992200\n",
      "32.0               97    3.783151\n",
      "33.0               83    3.237129\n",
      "34.0               77    3.003120\n",
      "35.0               56    2.184087\n",
      "36.0               64    2.496100\n",
      "37.0               49    1.911076\n",
      "38.0               34    1.326053\n",
      "39.0               41    1.599064\n",
      "40.0               24    0.936037\n",
      "41.0               16    0.624025\n",
      "42.0               10    0.390016\n",
      "43.0               11    0.429017\n",
      "44.0                6    0.234009\n",
      "45.0                7    0.273011\n",
      "46.0               10    0.390016\n",
      "47.0                5    0.195008\n",
      "48.0                5    0.195008\n",
      "49.0                4    0.156006\n",
      "50.0                2    0.078003\n",
      "52.0                1    0.039002\n",
      "54.0                2    0.078003\n",
      "59.0                1    0.039002\n"
     ]
    }
   ],
   "source": [
    "# Calculate the counts & percentage of each unique value in 'NeighQualTotalTotal'\n",
    "neigh_quali_total_counts = ori_df['NeighQualTotal'].value_counts()\n",
    "neigh_quali_total_percentage = ori_df['NeighQualTotal'].value_counts(normalize=True) * 100\n",
    "\n",
    "neigh_quali_total_summary = pd.DataFrame({\n",
    "    'Count': neigh_quali_total_counts,\n",
    "    'Percentage': neigh_quali_total_percentage\n",
    "})\n",
    "\n",
    "neigh_quali_total_summary = neigh_quali_total_summary.sort_index()\n",
    "print(neigh_quali_total_summary)"
   ]
  },
  {
   "cell_type": "code",
   "execution_count": 27,
   "metadata": {},
   "outputs": [
    {
     "name": "stdout",
     "output_type": "stream",
     "text": [
      "NeighQualTotalGroup\n",
      "1.0    1441\n",
      "2.0     653\n",
      "0.0     390\n",
      "3.0      80\n",
      "Name: count, dtype: int64\n"
     ]
    }
   ],
   "source": [
    "ori_df['NeighQualTotalGroup'] = pd.cut(ori_df['NeighQualTotal'], bins=[-1,20,30,40,100], labels=[0,1,2,3])\n",
    "ori_df['NeighQualTotalGroup'] = ori_df['NeighQualTotalGroup'].astype(float)\n",
    "print(ori_df['NeighQualTotalGroup'].value_counts())"
   ]
  },
  {
   "cell_type": "markdown",
   "metadata": {},
   "source": [
    "#### Transport Time"
   ]
  },
  {
   "cell_type": "code",
   "execution_count": 74,
   "metadata": {},
   "outputs": [
    {
     "data": {
      "application/vnd.jupyter.widget-view+json": {
       "model_id": "79fd8e131f9549048cc9526a0ae4e370",
       "version_major": 2,
       "version_minor": 0
      },
      "text/plain": [
       "Button(description='Commute', style=ButtonStyle())"
      ]
     },
     "metadata": {},
     "output_type": "display_data"
    },
    {
     "data": {
      "application/vnd.jupyter.widget-view+json": {
       "model_id": "ff1e529ac0d949b1b8c847e1b1f7205d",
       "version_major": 2,
       "version_minor": 0
      },
      "text/plain": [
       "Button(description='Commute & Food', style=ButtonStyle())"
      ]
     },
     "metadata": {},
     "output_type": "display_data"
    }
   ],
   "source": [
    "import ipywidgets as widgets\n",
    "from IPython.display import display\n",
    "\n",
    "\n",
    "def run_code_block_1():\n",
    "    global ori_df, df\n",
    "    print('Only use CommuteTime and remove null values')\n",
    "    \n",
    "    df = ori_df.copy()\n",
    "    # Drop nan value for CommuteTimePreCov\n",
    "    df = df.dropna(subset=['CommuteTimePreCov'])\n",
    "    df['TransportTimeGroup'] = pd.cut(df['CommuteTimePreCov'], bins=[-1, 30, 40, 50, 500], labels=[0,1,2,3])\n",
    "    df['TransportTimeGroup'] = df['TransportTimeGroup'].astype(float)\n",
    "    print(df['TransportTimeGroup'].value_counts())\n",
    "\n",
    "def run_code_block_2():\n",
    "    global ori_df, df\n",
    "    \n",
    "    df = ori_df.copy()\n",
    "    # Eliminate data where both CommuteTimePreCov and FoodTimePreCov are null values\n",
    "    df = df.dropna(subset=['CommuteTimePreCov', 'FoodTimePreCov'], how='all')\n",
    "    df['CommuteTimeGroup'] = pd.cut(df['CommuteTimePreCov'], bins=[-1, 30, 40, 50, 500], labels=[0,1,2,3])\n",
    "    df['FoodTimeGroup'] = pd.cut(df['FoodTimePreCov'], bins=[-1, 5, 10, 15, 500], labels=[0,1,2,3])\n",
    "    \n",
    "    # If CommuteTimeGroup is empty, the value of FoodTimeGroup is used\n",
    "    df['TransportTimeGroup'] = df['CommuteTimeGroup'].fillna(df['FoodTimeGroup'])\n",
    "    df['TransportTimeGroup'] = df['TransportTimeGroup'].astype(float)\n",
    "    print(df['TransportTimeGroup'].value_counts())\n",
    "\n",
    "# Creating Buttons\n",
    "button1 = widgets.Button(description=\"Commute\")\n",
    "button2 = widgets.Button(description=\"Commute & Food\")\n",
    "\n",
    "# Define the button click event\n",
    "def on_button1_clicked(b):\n",
    "    run_code_block_1()\n",
    "\n",
    "def on_button2_clicked(b):\n",
    "    run_code_block_2()\n",
    "\n",
    "# Bind click event to buttons\n",
    "button1.on_click(on_button1_clicked)\n",
    "button2.on_click(on_button2_clicked)\n",
    "\n",
    "# Show Buttons\n",
    "display(button1)\n",
    "display(button2)"
   ]
  },
  {
   "cell_type": "code",
   "execution_count": 30,
   "metadata": {},
   "outputs": [
    {
     "name": "stdout",
     "output_type": "stream",
     "text": [
      "Housing&TransportGroup\n",
      "0.0    459\n",
      "3.0    395\n",
      "2.0    224\n",
      "1.0    210\n",
      "4.0     90\n",
      "5.0     62\n",
      "6.0     51\n",
      "Name: count, dtype: int64\n"
     ]
    }
   ],
   "source": [
    "# HousingCostToIncomeGroup & TransportTimeGroup\n",
    "\n",
    "df['Housing&TransportGroup'] = df['HousingCostToIncomeGroup'] + df['TransportTimeGroup']\n",
    "print(df['Housing&TransportGroup'].value_counts())"
   ]
  },
  {
   "cell_type": "code",
   "execution_count": 31,
   "metadata": {},
   "outputs": [
    {
     "name": "stderr",
     "output_type": "stream",
     "text": [
      "/opt/conda/lib/python3.11/site-packages/seaborn/_oldcore.py:1498: FutureWarning: is_categorical_dtype is deprecated and will be removed in a future version. Use isinstance(dtype, CategoricalDtype) instead\n",
      "  if pd.api.types.is_categorical_dtype(vector):\n",
      "/opt/conda/lib/python3.11/site-packages/seaborn/_oldcore.py:1119: FutureWarning: use_inf_as_na option is deprecated and will be removed in a future version. Convert inf values to NaN before operating instead.\n",
      "  with pd.option_context('mode.use_inf_as_na', True):\n",
      "/opt/conda/lib/python3.11/site-packages/seaborn/_oldcore.py:1498: FutureWarning: is_categorical_dtype is deprecated and will be removed in a future version. Use isinstance(dtype, CategoricalDtype) instead\n",
      "  if pd.api.types.is_categorical_dtype(vector):\n",
      "/opt/conda/lib/python3.11/site-packages/seaborn/_oldcore.py:1119: FutureWarning: use_inf_as_na option is deprecated and will be removed in a future version. Convert inf values to NaN before operating instead.\n",
      "  with pd.option_context('mode.use_inf_as_na', True):\n",
      "/opt/conda/lib/python3.11/site-packages/seaborn/_oldcore.py:1498: FutureWarning: is_categorical_dtype is deprecated and will be removed in a future version. Use isinstance(dtype, CategoricalDtype) instead\n",
      "  if pd.api.types.is_categorical_dtype(vector):\n",
      "/opt/conda/lib/python3.11/site-packages/seaborn/_oldcore.py:1119: FutureWarning: use_inf_as_na option is deprecated and will be removed in a future version. Convert inf values to NaN before operating instead.\n",
      "  with pd.option_context('mode.use_inf_as_na', True):\n",
      "/opt/conda/lib/python3.11/site-packages/seaborn/_oldcore.py:1498: FutureWarning: is_categorical_dtype is deprecated and will be removed in a future version. Use isinstance(dtype, CategoricalDtype) instead\n",
      "  if pd.api.types.is_categorical_dtype(vector):\n",
      "/opt/conda/lib/python3.11/site-packages/seaborn/_oldcore.py:1119: FutureWarning: use_inf_as_na option is deprecated and will be removed in a future version. Convert inf values to NaN before operating instead.\n",
      "  with pd.option_context('mode.use_inf_as_na', True):\n",
      "/opt/conda/lib/python3.11/site-packages/seaborn/_oldcore.py:1498: FutureWarning: is_categorical_dtype is deprecated and will be removed in a future version. Use isinstance(dtype, CategoricalDtype) instead\n",
      "  if pd.api.types.is_categorical_dtype(vector):\n",
      "/opt/conda/lib/python3.11/site-packages/seaborn/_oldcore.py:1119: FutureWarning: use_inf_as_na option is deprecated and will be removed in a future version. Convert inf values to NaN before operating instead.\n",
      "  with pd.option_context('mode.use_inf_as_na', True):\n"
     ]
    },
    {
     "data": {
      "image/png": "[encoded data removed]",
      "text/plain": [
       "<Figure size 2200x400 with 5 Axes>"
      ]
     },
     "metadata": {},
     "output_type": "display_data"
    }
   ],
   "source": [
    "# plot for 'HousingCostToIncomeGroup'、'HomeProbTotalGroup' 、 'NeighQualTotalGroup' 、'TransportTimeGroup'\n",
    "# plot in one figure\n",
    "fig, axes = plt.subplots(1, 5, figsize=(22, 4))\n",
    "sns.histplot(df['HousingCostToIncomeGroup'], ax=axes[0],bins=4)\n",
    "axes[0].set_xticks(np.arange(0, 4, 1))\n",
    "sns.histplot(df['HomeProbTotalGroup'], ax=axes[1],bins=4)\n",
    "axes[1].set_xticks(np.arange(0, 4, 1))\n",
    "sns.histplot(df['NeighQualTotalGroup'], ax=axes[2],bins=4)\n",
    "axes[2].set_xticks(np.arange(0, 4, 1))\n",
    "sns.histplot(df['TransportTimeGroup'], ax=axes[3],bins=4)\n",
    "axes[3].set_xticks(np.arange(0, 4, 1))\n",
    "sns.histplot(df['Housing&TransportGroup'], ax=axes[4], bins=6)\n",
    "axes[4].set_xticks(np.arange(0, 7, 1))\n",
    "plt.show()\n"
   ]
  },
  {
   "cell_type": "code",
   "execution_count": 32,
   "metadata": {},
   "outputs": [],
   "source": [
    "# 除了NeighQualTotalGroup，其他三个维度中，第0组的样本数量总是最多的，说明该三个维度中，大多数人的剥夺程度都不高\n",
    "# NeighQualTotalGroup中，第1组的样本数量最多，说明大多数人的邻里质量一般？"
   ]
  },
  {
   "cell_type": "markdown",
   "metadata": {},
   "source": [
    "## 3.Descriptive statistics"
   ]
  },
  {
   "cell_type": "code",
   "execution_count": 33,
   "metadata": {},
   "outputs": [
    {
     "name": "stderr",
     "output_type": "stream",
     "text": [
      "/opt/conda/lib/python3.11/site-packages/seaborn/_oldcore.py:1498: FutureWarning: is_categorical_dtype is deprecated and will be removed in a future version. Use isinstance(dtype, CategoricalDtype) instead\n",
      "  if pd.api.types.is_categorical_dtype(vector):\n",
      "/opt/conda/lib/python3.11/site-packages/seaborn/_oldcore.py:1498: FutureWarning: is_categorical_dtype is deprecated and will be removed in a future version. Use isinstance(dtype, CategoricalDtype) instead\n",
      "  if pd.api.types.is_categorical_dtype(vector):\n",
      "/opt/conda/lib/python3.11/site-packages/seaborn/_oldcore.py:1498: FutureWarning: is_categorical_dtype is deprecated and will be removed in a future version. Use isinstance(dtype, CategoricalDtype) instead\n",
      "  if pd.api.types.is_categorical_dtype(vector):\n",
      "/opt/conda/lib/python3.11/site-packages/seaborn/_oldcore.py:1498: FutureWarning: is_categorical_dtype is deprecated and will be removed in a future version. Use isinstance(dtype, CategoricalDtype) instead\n",
      "  if pd.api.types.is_categorical_dtype(vector):\n",
      "/opt/conda/lib/python3.11/site-packages/seaborn/_oldcore.py:1498: FutureWarning: is_categorical_dtype is deprecated and will be removed in a future version. Use isinstance(dtype, CategoricalDtype) instead\n",
      "  if pd.api.types.is_categorical_dtype(vector):\n",
      "/opt/conda/lib/python3.11/site-packages/seaborn/_oldcore.py:1498: FutureWarning: is_categorical_dtype is deprecated and will be removed in a future version. Use isinstance(dtype, CategoricalDtype) instead\n",
      "  if pd.api.types.is_categorical_dtype(vector):\n",
      "/opt/conda/lib/python3.11/site-packages/seaborn/_oldcore.py:1498: FutureWarning: is_categorical_dtype is deprecated and will be removed in a future version. Use isinstance(dtype, CategoricalDtype) instead\n",
      "  if pd.api.types.is_categorical_dtype(vector):\n",
      "/opt/conda/lib/python3.11/site-packages/seaborn/_oldcore.py:1498: FutureWarning: is_categorical_dtype is deprecated and will be removed in a future version. Use isinstance(dtype, CategoricalDtype) instead\n",
      "  if pd.api.types.is_categorical_dtype(vector):\n",
      "/opt/conda/lib/python3.11/site-packages/seaborn/_oldcore.py:1498: FutureWarning: is_categorical_dtype is deprecated and will be removed in a future version. Use isinstance(dtype, CategoricalDtype) instead\n",
      "  if pd.api.types.is_categorical_dtype(vector):\n",
      "/opt/conda/lib/python3.11/site-packages/seaborn/_oldcore.py:1498: FutureWarning: is_categorical_dtype is deprecated and will be removed in a future version. Use isinstance(dtype, CategoricalDtype) instead\n",
      "  if pd.api.types.is_categorical_dtype(vector):\n",
      "/opt/conda/lib/python3.11/site-packages/seaborn/_oldcore.py:1498: FutureWarning: is_categorical_dtype is deprecated and will be removed in a future version. Use isinstance(dtype, CategoricalDtype) instead\n",
      "  if pd.api.types.is_categorical_dtype(vector):\n",
      "/opt/conda/lib/python3.11/site-packages/seaborn/_oldcore.py:1498: FutureWarning: is_categorical_dtype is deprecated and will be removed in a future version. Use isinstance(dtype, CategoricalDtype) instead\n",
      "  if pd.api.types.is_categorical_dtype(vector):\n"
     ]
    },
    {
     "data": {
      "text/plain": [
       "<Axes: xlabel='TransportTimeGroup', ylabel='Health'>"
      ]
     },
     "execution_count": 33,
     "metadata": {},
     "output_type": "execute_result"
    },
    {
     "data": {
      "image/png": "[encoded data removed]",
      "text/plain": [
       "<Figure size 2000x400 with 4 Axes>"
      ]
     },
     "metadata": {},
     "output_type": "display_data"
    }
   ],
   "source": [
    "# plot boxplot for 'HousingCostToIncomeGroup'、'HomeProbTotalGroup' 、 'NeighQualTotalGroup' 、'TransportTimeGroup'\n",
    "# plot in one figure\n",
    "fig, axes = plt.subplots(1, 4, figsize=(20, 4))\n",
    "sns.boxplot(x='HousingCostToIncomeGroup', y='Health', data=df, ax=axes[0])\n",
    "sns.boxplot(x='HomeProbTotalGroup', y='Health', data=df, ax=axes[1])\n",
    "sns.boxplot(x='NeighQualTotalGroup', y='Health', data=df, ax=axes[2])\n",
    "sns.boxplot(x='TransportTimeGroup', y='Health', data=df, ax=axes[3])"
   ]
  },
  {
   "cell_type": "code",
   "execution_count": 34,
   "metadata": {},
   "outputs": [],
   "source": [
    "# TransportTimeGroup和Health之间的关系不明显，所有组的健康值中箱体的位置都差不多\n",
    "# 其他三个维度中，剥夺程度越高，健康越差（虽然没有严格对应，但至少不同组的中位数、箱体和须是有差别的，剥夺程度越高，须包含健康值范围更高）"
   ]
  },
  {
   "cell_type": "code",
   "execution_count": 35,
   "metadata": {},
   "outputs": [
    {
     "data": {
      "image/png": "[encoded data removed]",
      "text/plain": [
       "<Figure size 1100x600 with 12 Axes>"
      ]
     },
     "metadata": {},
     "output_type": "display_data"
    }
   ],
   "source": [
    "# plot heat map for 'HousingCostToIncomeGroup'、'HomeProbTotalGroup' 、 'NeighQualTotalGroup' 、'TransportTimeGroup'\n",
    "# plot in one figure\n",
    "\n",
    "# Heat map of sample size for different deprivation combinations\n",
    "column_list = ['HousingCostToIncomeGroup', 'HomeProbTotalGroup', 'NeighQualTotalGroup', 'TransportTimeGroup']\n",
    "\n",
    "fig, axes = plt.subplots(2, 3, figsize=(11, 6))\n",
    "idx = 0\n",
    "for i in range(4):\n",
    "    for j in range(i+1, 4):\n",
    "        pivot_table = df.pivot_table(index=column_list[i], columns=column_list[j], values='Health', aggfunc='count')\n",
    "        percent_table = pivot_table / pivot_table.sum().sum() * 100\n",
    "        sns.heatmap(percent_table, ax=axes[(idx)//3, (idx)%3], annot=True, fmt='.1f', cmap='Oranges',cbar_kws={'format': '%.0f%%'})\n",
    "        axes[(idx)//3, (idx)%3].xaxis.tick_top()\n",
    "        axes[(idx)//3, (idx)%3].xaxis.set_label_position('top')\n",
    "        idx += 1\n",
    "        \n",
    "plt.subplots_adjust(hspace=0.4,wspace=0.3)\n"
   ]
  },
  {
   "cell_type": "code",
   "execution_count": 36,
   "metadata": {},
   "outputs": [],
   "source": [
    "# 似乎HousingCostToIncomeGroup占比不低的，只要有它的热力图，值为3.0的样本数量是较多的(明显多于1.0和2.0) \n",
    "# 带有TransportTimeGroup的热力图，0,1,2,3的占比要均匀一些（0肯定最多，但是1,2,3的占比差不多是0的1/3-1/2)\n",
    "# 带有NeighQualTotalGroup的热力图，1.0的占比是最多的\n",
    "\n",
    "# 以上均可从之前的直方图里也能看出"
   ]
  },
  {
   "cell_type": "code",
   "execution_count": 37,
   "metadata": {},
   "outputs": [
    {
     "data": {
      "image/png": "[encoded data removed]",
      "text/plain": [
       "<Figure size 1100x600 with 12 Axes>"
      ]
     },
     "metadata": {},
     "output_type": "display_data"
    }
   ],
   "source": [
    "# plot heat map for 'HousingCostToIncomeGroup'、'HomeProbTotalGroup' 、 'NeighQualTotalGroup' 、'TransportTimeGroup' pairwise against 'Health'\n",
    "# plot in one figure\n",
    "\n",
    "fig, axes = plt.subplots(2, 3, figsize=(11, 6))\n",
    "sns.heatmap(df.pivot_table(index='HousingCostToIncomeGroup', columns='HomeProbTotalGroup', values='Health', aggfunc='mean'), ax=axes[0, 0], annot=True,fmt='.2f', cmap='coolwarm')\n",
    "sns.heatmap(df.pivot_table(index='HousingCostToIncomeGroup', columns='NeighQualTotalGroup', values='Health', aggfunc='mean'), ax=axes[0, 1],annot=True,fmt='.2f', cmap='coolwarm')\n",
    "sns.heatmap(df.pivot_table(index='HousingCostToIncomeGroup', columns='TransportTimeGroup', values='Health', aggfunc='mean'), ax=axes[0, 2],annot=True,fmt='.2f', cmap='coolwarm')\n",
    "sns.heatmap(df.pivot_table(index='HomeProbTotalGroup', columns='NeighQualTotalGroup', values='Health', aggfunc='mean'), ax=axes[1, 0],annot=True,fmt='.2f', cmap='coolwarm')\n",
    "sns.heatmap(df.pivot_table(index='HomeProbTotalGroup', columns='TransportTimeGroup', values='Health', aggfunc='mean'), ax=axes[1, 1],annot=True, fmt='.2f', cmap='coolwarm')\n",
    "sns.heatmap(df.pivot_table(index='NeighQualTotalGroup', columns='TransportTimeGroup', values='Health', aggfunc='mean'), ax=axes[1, 2],annot=True, fmt='.2f', cmap='coolwarm')\n",
    "for i in range(2):\n",
    "    for j in range(3):\n",
    "        axes[i,j].xaxis.tick_top()\n",
    "        axes[i,j].xaxis.set_label_position('top')\n",
    "plt.subplots_adjust(hspace=0.4,wspace=0.4)\n"
   ]
  },
  {
   "cell_type": "code",
   "execution_count": 38,
   "metadata": {},
   "outputs": [],
   "source": [
    "# 混合的低剥夺程度的样本，不一定健康状况最好\n",
    "# 除了右下两个热力图，其他的热力图中，健康状况最好的，都不出现在剥夺程度最低的组合中"
   ]
  },
  {
   "cell_type": "code",
   "execution_count": 39,
   "metadata": {},
   "outputs": [],
   "source": [
    "# HomeProb和NeighQual的相关性比较明显 0.242427\n",
    "# NeighQual和Health的相关性也比较明显 0.241392"
   ]
  },
  {
   "cell_type": "markdown",
   "metadata": {},
   "source": [
    "#### Co-correlation matrix"
   ]
  },
  {
   "cell_type": "code",
   "execution_count": 40,
   "metadata": {},
   "outputs": [],
   "source": [
    "# calculate the correlation matrix\n",
    "global df\n",
    "corr = df[['HousingCostToIncomeGroup', 'HomeProbTotalGroup', 'NeighQualTotalGroup', 'TransportTimeGroup', 'Health']].corr()\n",
    "# rename the columns of corr\n",
    "corr.columns = ['HousingCost.', 'HomeProb', 'NeighQual', 'TransportTime', 'Health']\n",
    "corr.index = ['HousingCost.', 'HomeProb', 'NeighQual', 'TransportTime', 'Health']"
   ]
  },
  {
   "cell_type": "code",
   "execution_count": 41,
   "metadata": {},
   "outputs": [
    {
     "data": {
      "image/png": "[encoded data removed]",
      "text/plain": [
       "<Figure size 600x600 with 2 Axes>"
      ]
     },
     "metadata": {},
     "output_type": "display_data"
    }
   ],
   "source": [
    "# plot map for correlation matrix\n",
    "plt.figure(figsize=(6, 6))\n",
    "ax = sns.heatmap(corr, annot=True, square=True, cbar_kws={'shrink': 0.8, 'aspect': 10})\n",
    "ax.set_xticklabels(ax.get_xticklabels(), rotation=45, ha='right')\n",
    "plt.show()\n"
   ]
  },
  {
   "cell_type": "markdown",
   "metadata": {},
   "source": [
    "## Single Ordinal Logit analysis"
   ]
  },
  {
   "cell_type": "code",
   "execution_count": 42,
   "metadata": {},
   "outputs": [
    {
     "name": "stdout",
     "output_type": "stream",
     "text": [
      "Optimization terminated successfully.\n",
      "         Current function value: 1.156832\n",
      "         Iterations: 11\n",
      "         Function evaluations: 12\n",
      "         Gradient evaluations: 12\n",
      "                             OrderedModel Results                             \n",
      "==============================================================================\n",
      "Dep. Variable:                 Health   Log-Likelihood:                -1724.8\n",
      "Model:                   OrderedModel   AIC:                             3460.\n",
      "Method:            Maximum Likelihood   BIC:                             3486.\n",
      "Date:                Wed, 17 Jul 2024                                         \n",
      "Time:                        20:28:51                                         \n",
      "No. Observations:                1491                                         \n",
      "Df Residuals:                    1486                                         \n",
      "Df Model:                           1                                         \n",
      "============================================================================================\n",
      "                               coef    std err          z      P>|z|      [0.025      0.975]\n",
      "--------------------------------------------------------------------------------------------\n",
      "HousingCostToIncomeGroup     0.1225      0.040      3.088      0.002       0.045       0.200\n",
      "1.0/2.0                     -0.8427      0.070    -12.031      0.000      -0.980      -0.705\n",
      "2.0/3.0                      0.7975      0.032     25.292      0.000       0.736       0.859\n",
      "3.0/4.0                      0.6071      0.063      9.593      0.000       0.483       0.731\n",
      "4.0/5.0                      0.9642      0.164      5.863      0.000       0.642       1.287\n",
      "============================================================================================\n"
     ]
    }
   ],
   "source": [
    "# perform ols regression for 'HousingCostToIncome' and 'Health' without constant\n",
    "import pandas as pd\n",
    "import statsmodels.api as sm\n",
    "from statsmodels.miscmodels.ordinal_model import OrderedModel\n",
    "\n",
    "y = df['Health']\n",
    "X = df[['HousingCostToIncomeGroup']]\n",
    "model = OrderedModel(y, X, distr='logit')\n",
    "res = model.fit(method='bfgs')\n",
    "print(res.summary())\n"
   ]
  },
  {
   "cell_type": "code",
   "execution_count": 43,
   "metadata": {},
   "outputs": [
    {
     "name": "stdout",
     "output_type": "stream",
     "text": [
      "Optimization terminated successfully.\n",
      "         Current function value: 1.152152\n",
      "         Iterations: 18\n",
      "         Function evaluations: 19\n",
      "         Gradient evaluations: 19\n",
      "                             OrderedModel Results                             \n",
      "==============================================================================\n",
      "Dep. Variable:                 Health   Log-Likelihood:                -1717.9\n",
      "Model:                   OrderedModel   AIC:                             3446.\n",
      "Method:            Maximum Likelihood   BIC:                             3472.\n",
      "Date:                Wed, 17 Jul 2024                                         \n",
      "Time:                        20:28:51                                         \n",
      "No. Observations:                1491                                         \n",
      "Df Residuals:                    1486                                         \n",
      "Df Model:                           1                                         \n",
      "======================================================================================\n",
      "                         coef    std err          z      P>|z|      [0.025      0.975]\n",
      "--------------------------------------------------------------------------------------\n",
      "HomeProbTotalGroup     0.2990      0.062      4.833      0.000       0.178       0.420\n",
      "1.0/2.0               -0.7648      0.071    -10.800      0.000      -0.904      -0.626\n",
      "2.0/3.0                0.8037      0.032     25.431      0.000       0.742       0.866\n",
      "3.0/4.0                0.6117      0.063      9.686      0.000       0.488       0.735\n",
      "4.0/5.0                0.9665      0.164      5.886      0.000       0.645       1.288\n",
      "======================================================================================\n"
     ]
    }
   ],
   "source": [
    "y = df['Health']\n",
    "X = df[['HomeProbTotalGroup']]\n",
    "model = OrderedModel(y, X, distr='logit')\n",
    "res = model.fit(method='bfgs')\n",
    "print(res.summary())"
   ]
  },
  {
   "cell_type": "code",
   "execution_count": 44,
   "metadata": {},
   "outputs": [
    {
     "name": "stdout",
     "output_type": "stream",
     "text": [
      "Optimization terminated successfully.\n",
      "         Current function value: 1.129489\n",
      "         Iterations: 19\n",
      "         Function evaluations: 20\n",
      "         Gradient evaluations: 20\n",
      "                             OrderedModel Results                             \n",
      "==============================================================================\n",
      "Dep. Variable:                 Health   Log-Likelihood:                -1684.1\n",
      "Model:                   OrderedModel   AIC:                             3378.\n",
      "Method:            Maximum Likelihood   BIC:                             3405.\n",
      "Date:                Wed, 17 Jul 2024                                         \n",
      "Time:                        20:28:51                                         \n",
      "No. Observations:                1491                                         \n",
      "Df Residuals:                    1486                                         \n",
      "Df Model:                           1                                         \n",
      "=======================================================================================\n",
      "                          coef    std err          z      P>|z|      [0.025      0.975]\n",
      "---------------------------------------------------------------------------------------\n",
      "NeighQualTotalGroup     0.6798      0.072      9.422      0.000       0.538       0.821\n",
      "1.0/2.0                -0.2364      0.096     -2.474      0.013      -0.424      -0.049\n",
      "2.0/3.0                 0.8403      0.032     26.277      0.000       0.778       0.903\n",
      "3.0/4.0                 0.6319      0.063     10.092      0.000       0.509       0.755\n",
      "4.0/5.0                 0.9688      0.164      5.910      0.000       0.647       1.290\n",
      "=======================================================================================\n"
     ]
    }
   ],
   "source": [
    "y = df['Health']\n",
    "X = df[['NeighQualTotalGroup']]\n",
    "model = OrderedModel(y, X, distr='logit')\n",
    "res = model.fit(method='bfgs')\n",
    "print(res.summary())"
   ]
  },
  {
   "cell_type": "code",
   "execution_count": 45,
   "metadata": {},
   "outputs": [
    {
     "name": "stdout",
     "output_type": "stream",
     "text": [
      "[[411   0   0   0   0]\n",
      " [746   0   0   0   0]\n",
      " [268   0   0   0   0]\n",
      " [ 61   0   0   0   0]\n",
      " [  5   0   0   0   0]]\n",
      "Accuracy: 0.27565392354124746\n",
      "Macro F1 Score: 0.08643533123028391\n"
     ]
    }
   ],
   "source": [
    "# print confusion matrix\n",
    "from sklearn.metrics import confusion_matrix\n",
    "y_pred = res.predict(X)\n",
    "y_pred = y_pred.idxmax(axis=1)\n",
    "cm = confusion_matrix(y, y_pred)\n",
    "print(cm)\n",
    "\n",
    "# calculate the accuracy and macro f1 score\n",
    "from sklearn.metrics import accuracy_score, f1_score\n",
    "accuracy = accuracy_score(y, y_pred)\n",
    "f1 = f1_score(y, y_pred, average='macro')\n",
    "print('Accuracy:', accuracy)\n",
    "print('Macro F1 Score:', f1)"
   ]
  },
  {
   "cell_type": "code",
   "execution_count": 46,
   "metadata": {},
   "outputs": [
    {
     "name": "stdout",
     "output_type": "stream",
     "text": [
      "Optimization terminated successfully.\n",
      "         Current function value: 1.158741\n",
      "         Iterations: 10\n",
      "         Function evaluations: 11\n",
      "         Gradient evaluations: 11\n",
      "                             OrderedModel Results                             \n",
      "==============================================================================\n",
      "Dep. Variable:                 Health   Log-Likelihood:                -1727.7\n",
      "Model:                   OrderedModel   AIC:                             3465.\n",
      "Method:            Maximum Likelihood   BIC:                             3492.\n",
      "Date:                Wed, 17 Jul 2024                                         \n",
      "Time:                        20:28:51                                         \n",
      "No. Observations:                1491                                         \n",
      "Df Residuals:                    1486                                         \n",
      "Df Model:                           1                                         \n",
      "======================================================================================\n",
      "                         coef    std err          z      P>|z|      [0.025      0.975]\n",
      "--------------------------------------------------------------------------------------\n",
      "TransportTimeGroup    -0.0804      0.041     -1.964      0.049      -0.161      -0.000\n",
      "1.0/2.0               -1.0349      0.068    -15.215      0.000      -1.168      -0.902\n",
      "2.0/3.0                0.7943      0.031     25.222      0.000       0.733       0.856\n",
      "3.0/4.0                0.6050      0.063      9.550      0.000       0.481       0.729\n",
      "4.0/5.0                0.9640      0.165      5.860      0.000       0.642       1.286\n",
      "======================================================================================\n"
     ]
    }
   ],
   "source": [
    "y = df['Health']\n",
    "X = df[['TransportTimeGroup']]\n",
    "model = OrderedModel(y, X, distr='logit')\n",
    "res = model.fit(method='bfgs')\n",
    "print(res.summary())"
   ]
  },
  {
   "cell_type": "code",
   "execution_count": 47,
   "metadata": {},
   "outputs": [
    {
     "name": "stdout",
     "output_type": "stream",
     "text": [
      "Optimization terminated successfully.\n",
      "         Current function value: 1.159783\n",
      "         Iterations: 11\n",
      "         Function evaluations: 12\n",
      "         Gradient evaluations: 12\n",
      "                             OrderedModel Results                             \n",
      "==============================================================================\n",
      "Dep. Variable:                 Health   Log-Likelihood:                -1729.2\n",
      "Model:                   OrderedModel   AIC:                             3468.\n",
      "Method:            Maximum Likelihood   BIC:                             3495.\n",
      "Date:                Wed, 17 Jul 2024                                         \n",
      "Time:                        20:28:51                                         \n",
      "No. Observations:                1491                                         \n",
      "Df Residuals:                    1486                                         \n",
      "Df Model:                           1                                         \n",
      "==========================================================================================\n",
      "                             coef    std err          z      P>|z|      [0.025      0.975]\n",
      "------------------------------------------------------------------------------------------\n",
      "Housing&TransportGroup     0.0254      0.029      0.872      0.383      -0.032       0.082\n",
      "1.0/2.0                   -0.9189      0.079    -11.603      0.000      -1.074      -0.764\n",
      "2.0/3.0                    0.7928      0.031     25.187      0.000       0.731       0.854\n",
      "3.0/4.0                    0.6045      0.063      9.541      0.000       0.480       0.729\n",
      "4.0/5.0                    0.9640      0.165      5.859      0.000       0.642       1.286\n",
      "==========================================================================================\n"
     ]
    }
   ],
   "source": [
    "y = df['Health']\n",
    "X = df[['Housing&TransportGroup']]\n",
    "model = OrderedModel(y, X, distr='logit')\n",
    "res = model.fit(method='bfgs')\n",
    "print(res.summary())"
   ]
  },
  {
   "cell_type": "markdown",
   "metadata": {},
   "source": [
    "## Multiple Ordinal Logit regression"
   ]
  },
  {
   "cell_type": "code",
   "execution_count": 48,
   "metadata": {},
   "outputs": [
    {
     "name": "stdout",
     "output_type": "stream",
     "text": [
      "Optimization terminated successfully.\n",
      "         Current function value: 1.123408\n",
      "         Iterations: 26\n",
      "         Function evaluations: 27\n",
      "         Gradient evaluations: 27\n",
      "                             OrderedModel Results                             \n",
      "==============================================================================\n",
      "Dep. Variable:                 Health   Log-Likelihood:                -1675.0\n",
      "Model:                   OrderedModel   AIC:                             3366.\n",
      "Method:            Maximum Likelihood   BIC:                             3408.\n",
      "Date:                Wed, 17 Jul 2024                                         \n",
      "Time:                        20:28:51                                         \n",
      "No. Observations:                1491                                         \n",
      "Df Residuals:                    1483                                         \n",
      "Df Model:                           4                                         \n",
      "============================================================================================\n",
      "                               coef    std err          z      P>|z|      [0.025      0.975]\n",
      "--------------------------------------------------------------------------------------------\n",
      "HousingCostToIncomeGroup     0.0751      0.040      1.862      0.063      -0.004       0.154\n",
      "HomeProbTotalGroup           0.1845      0.064      2.865      0.004       0.058       0.311\n",
      "NeighQualTotalGroup          0.6289      0.074      8.479      0.000       0.484       0.774\n",
      "TransportTimeGroup          -0.1030      0.042     -2.475      0.013      -0.185      -0.021\n",
      "1.0/2.0                     -0.1789      0.109     -1.645      0.100      -0.392       0.034\n",
      "2.0/3.0                      0.8491      0.032     26.477      0.000       0.786       0.912\n",
      "3.0/4.0                      0.6375      0.062     10.206      0.000       0.515       0.760\n",
      "4.0/5.0                      0.9705      0.164      5.929      0.000       0.650       1.291\n",
      "============================================================================================\n",
      "[[  0   0   0   0   0   0]\n",
      " [ 56 353   2   0   0   0]\n",
      " [ 57 687   2   0   0   0]\n",
      " [ 15 248   5   0   0   0]\n",
      " [  1  60   0   0   0   0]\n",
      " [  0   5   0   0   0   0]]\n",
      "Accuracy: 0.23809523809523808\n",
      "Macro F1 Score: 0.06758746176910793\n"
     ]
    }
   ],
   "source": [
    "y = df['Health']\n",
    "X = df[['HousingCostToIncomeGroup', 'HomeProbTotalGroup', 'NeighQualTotalGroup', 'TransportTimeGroup']]\n",
    "model = OrderedModel(y, X, distr='logit')\n",
    "res = model.fit(method='bfgs')\n",
    "print(res.summary())\n",
    "\n",
    "# print confusion matrix\n",
    "from sklearn.metrics import confusion_matrix\n",
    "y_pred = res.predict(X)\n",
    "y_pred = y_pred.idxmax(axis=1)\n",
    "cm = confusion_matrix(y, y_pred)\n",
    "print(cm)\n",
    "\n",
    "# calculate the accuracy and macro f1 score\n",
    "from sklearn.metrics import accuracy_score, f1_score\n",
    "accuracy = accuracy_score(y, y_pred)\n",
    "f1 = f1_score(y, y_pred, average='macro')\n",
    "print('Accuracy:', accuracy)\n",
    "print('Macro F1 Score:', f1)\n"
   ]
  },
  {
   "cell_type": "markdown",
   "metadata": {},
   "source": [
    "### Interaction term"
   ]
  },
  {
   "cell_type": "markdown",
   "metadata": {},
   "source": [
    "#### all+ two-two interactions"
   ]
  },
  {
   "cell_type": "code",
   "execution_count": 49,
   "metadata": {},
   "outputs": [
    {
     "name": "stdout",
     "output_type": "stream",
     "text": [
      "Optimization terminated successfully.\n",
      "         Current function value: 1.122763\n",
      "         Iterations: 33\n",
      "         Function evaluations: 40\n",
      "         Gradient evaluations: 40\n",
      "                             OrderedModel Results                             \n",
      "==============================================================================\n",
      "Dep. Variable:                 Health   Log-Likelihood:                -1674.0\n",
      "Model:                   OrderedModel   AIC:                             3366.\n",
      "Method:            Maximum Likelihood   BIC:                             3414.\n",
      "Date:                Wed, 17 Jul 2024                                         \n",
      "Time:                        20:28:51                                         \n",
      "No. Observations:                1491                                         \n",
      "Df Residuals:                    1482                                         \n",
      "Df Model:                           5                                         \n",
      "=========================================================================================\n",
      "                            coef    std err          z      P>|z|      [0.025      0.975]\n",
      "-----------------------------------------------------------------------------------------\n",
      "HousingCostToIncome       0.0458      0.097      0.474      0.636      -0.144       0.235\n",
      "HomeProbTotal             0.0710      0.032      2.199      0.028       0.008       0.134\n",
      "NeighQualTotal            0.0760      0.011      6.653      0.000       0.054       0.098\n",
      "CommuteTimePreCov        -0.0008      0.006     -0.132      0.895      -0.013       0.011\n",
      "NeighQual*CommuteTime -9.647e-05      0.000     -0.431      0.667      -0.001       0.000\n",
      "1.0/2.0                   1.0030      0.309      3.244      0.001       0.397       1.609\n",
      "2.0/3.0                   0.8498      0.032     26.500      0.000       0.787       0.913\n",
      "3.0/4.0                   0.6384      0.062     10.218      0.000       0.516       0.761\n",
      "4.0/5.0                   0.9712      0.164      5.936      0.000       0.651       1.292\n",
      "=========================================================================================\n",
      "[[  0   0   0   0   0   0]\n",
      " [ 35 375   1   0   0   0]\n",
      " [ 30 711   5   0   0   0]\n",
      " [ 10 251   7   0   0   0]\n",
      " [  0  59   2   0   0   0]\n",
      " [  0   5   0   0   0   0]]\n",
      "Accuracy: 0.25486250838363517\n",
      "Macro F1 Score: 0.07117464820600292\n"
     ]
    },
    {
     "name": "stderr",
     "output_type": "stream",
     "text": [
      "/tmp/ipykernel_99/2021668567.py:4: SettingWithCopyWarning: \n",
      "A value is trying to be set on a copy of a slice from a DataFrame.\n",
      "Try using .loc[row_indexer,col_indexer] = value instead\n",
      "\n",
      "See the caveats in the documentation: https://pandas.pydata.org/pandas-docs/stable/user_guide/indexing.html#returning-a-view-versus-a-copy\n",
      "  X['NeighQual*CommuteTime'] = interactions\n"
     ]
    }
   ],
   "source": [
    "y = df['Health']\n",
    "X = df[['HousingCostToIncome', 'HomeProbTotal', 'NeighQualTotal', 'CommuteTimePreCov']]\n",
    "interactions = df['NeighQualTotal'] * df['CommuteTimePreCov']\n",
    "X['NeighQual*CommuteTime'] = interactions\n",
    "\n",
    "model = OrderedModel(y, X, distr='logit')\n",
    "res = model.fit(method='bfgs')\n",
    "print(res.summary())\n",
    "\n",
    "# print confusion matrix\n",
    "from sklearn.metrics import confusion_matrix\n",
    "y_pred = res.predict(X)\n",
    "y_pred = y_pred.idxmax(axis=1)\n",
    "cm = confusion_matrix(y, y_pred)\n",
    "print(cm)\n",
    "\n",
    "# calculate the accuracy and macro f1 score\n",
    "from sklearn.metrics import accuracy_score, f1_score\n",
    "accuracy = accuracy_score(y, y_pred)\n",
    "f1 = f1_score(y, y_pred, average='macro')\n",
    "print('Accuracy:', accuracy)\n",
    "print('Macro F1 Score:', f1)"
   ]
  },
  {
   "cell_type": "code",
   "execution_count": 50,
   "metadata": {},
   "outputs": [
    {
     "name": "stderr",
     "output_type": "stream",
     "text": [
      "/tmp/ipykernel_99/3169515366.py:4: SettingWithCopyWarning: \n",
      "A value is trying to be set on a copy of a slice from a DataFrame.\n",
      "Try using .loc[row_indexer,col_indexer] = value instead\n",
      "\n",
      "See the caveats in the documentation: https://pandas.pydata.org/pandas-docs/stable/user_guide/indexing.html#returning-a-view-versus-a-copy\n",
      "  X['HousingCostToIncomeGroup:HomeProbTotalGroup'] = interactions\n"
     ]
    },
    {
     "name": "stdout",
     "output_type": "stream",
     "text": [
      "Optimization terminated successfully.\n",
      "         Current function value: 1.123343\n",
      "         Iterations: 29\n",
      "         Function evaluations: 30\n",
      "         Gradient evaluations: 30\n",
      "                             OrderedModel Results                             \n",
      "==============================================================================\n",
      "Dep. Variable:                 Health   Log-Likelihood:                -1674.9\n",
      "Model:                   OrderedModel   AIC:                             3368.\n",
      "Method:            Maximum Likelihood   BIC:                             3416.\n",
      "Date:                Wed, 17 Jul 2024                                         \n",
      "Time:                        20:28:52                                         \n",
      "No. Observations:                1491                                         \n",
      "Df Residuals:                    1482                                         \n",
      "Df Model:                           5                                         \n",
      "===============================================================================================================\n",
      "                                                  coef    std err          z      P>|z|      [0.025      0.975]\n",
      "---------------------------------------------------------------------------------------------------------------\n",
      "HousingCostToIncomeGroup                        0.0918      0.056      1.655      0.098      -0.017       0.201\n",
      "HomeProbTotalGroup                              0.2106      0.088      2.402      0.016       0.039       0.382\n",
      "NeighQualTotalGroup                             0.6305      0.074      8.488      0.000       0.485       0.776\n",
      "TransportTimeGroup                             -0.1030      0.042     -2.474      0.013      -0.185      -0.021\n",
      "HousingCostToIncomeGroup:HomeProbTotalGroup    -0.0214      0.049     -0.439      0.661      -0.117       0.074\n",
      "1.0/2.0                                        -0.1596      0.117     -1.359      0.174      -0.390       0.070\n",
      "2.0/3.0                                         0.8493      0.032     26.480      0.000       0.786       0.912\n",
      "3.0/4.0                                         0.6375      0.062     10.206      0.000       0.515       0.760\n",
      "4.0/5.0                                         0.9706      0.164      5.929      0.000       0.650       1.291\n",
      "===============================================================================================================\n",
      "[[  0   0   0   0   0   0]\n",
      " [ 56 353   2   0   0   0]\n",
      " [ 57 687   2   0   0   0]\n",
      " [ 13 250   5   0   0   0]\n",
      " [  1  60   0   0   0   0]\n",
      " [  0   5   0   0   0   0]]\n",
      "Accuracy: 0.23809523809523808\n",
      "Macro F1 Score: 0.06751191877979695\n"
     ]
    }
   ],
   "source": [
    "y = df['Health']\n",
    "X = df[['HousingCostToIncomeGroup', 'HomeProbTotalGroup', 'NeighQualTotalGroup', 'TransportTimeGroup']]\n",
    "interactions = df['HousingCostToIncomeGroup'] * df['HomeProbTotalGroup']\n",
    "X['HousingCostToIncomeGroup:HomeProbTotalGroup'] = interactions\n",
    "\n",
    "model = OrderedModel(y, X, distr='logit')\n",
    "res = model.fit(method='bfgs')\n",
    "print(res.summary())\n",
    "\n",
    "# print confusion matrix\n",
    "from sklearn.metrics import confusion_matrix\n",
    "y_pred = res.predict(X)\n",
    "y_pred = y_pred.idxmax(axis=1)\n",
    "cm = confusion_matrix(y, y_pred)\n",
    "print(cm)\n",
    "\n",
    "# calculate the accuracy and macro f1 score\n",
    "from sklearn.metrics import accuracy_score, f1_score\n",
    "accuracy = accuracy_score(y, y_pred)\n",
    "f1 = f1_score(y, y_pred, average='macro')\n",
    "print('Accuracy:', accuracy)\n",
    "print('Macro F1 Score:', f1)"
   ]
  },
  {
   "cell_type": "code",
   "execution_count": 51,
   "metadata": {},
   "outputs": [
    {
     "name": "stderr",
     "output_type": "stream",
     "text": [
      "/tmp/ipykernel_99/66424330.py:4: SettingWithCopyWarning: \n",
      "A value is trying to be set on a copy of a slice from a DataFrame.\n",
      "Try using .loc[row_indexer,col_indexer] = value instead\n",
      "\n",
      "See the caveats in the documentation: https://pandas.pydata.org/pandas-docs/stable/user_guide/indexing.html#returning-a-view-versus-a-copy\n",
      "  X['HousingCostToIncomeGroup:NeighQualTotalGroup'] = interactions\n"
     ]
    },
    {
     "name": "stdout",
     "output_type": "stream",
     "text": [
      "Optimization terminated successfully.\n",
      "         Current function value: 1.123408\n",
      "         Iterations: 21\n",
      "         Function evaluations: 23\n",
      "         Gradient evaluations: 23\n",
      "                             OrderedModel Results                             \n",
      "==============================================================================\n",
      "Dep. Variable:                 Health   Log-Likelihood:                -1675.0\n",
      "Model:                   OrderedModel   AIC:                             3368.\n",
      "Method:            Maximum Likelihood   BIC:                             3416.\n",
      "Date:                Wed, 17 Jul 2024                                         \n",
      "Time:                        20:28:52                                         \n",
      "No. Observations:                1491                                         \n",
      "Df Residuals:                    1482                                         \n",
      "Df Model:                           5                                         \n",
      "================================================================================================================\n",
      "                                                   coef    std err          z      P>|z|      [0.025      0.975]\n",
      "----------------------------------------------------------------------------------------------------------------\n",
      "HousingCostToIncomeGroup                         0.0733      0.079      0.923      0.356      -0.082       0.229\n",
      "HomeProbTotalGroup                               0.1844      0.065      2.852      0.004       0.058       0.311\n",
      "NeighQualTotalGroup                              0.6273      0.094      6.652      0.000       0.443       0.812\n",
      "TransportTimeGroup                              -0.1030      0.042     -2.475      0.013      -0.185      -0.021\n",
      "HousingCostToIncomeGroup:NeighQualTotalGroup     0.0016      0.057      0.027      0.978      -0.111       0.114\n",
      "1.0/2.0                                         -0.1808      0.129     -1.403      0.161      -0.433       0.072\n",
      "2.0/3.0                                          0.8491      0.032     26.477      0.000       0.786       0.912\n",
      "3.0/4.0                                          0.6375      0.062     10.204      0.000       0.515       0.760\n",
      "4.0/5.0                                          0.9703      0.164      5.927      0.000       0.649       1.291\n",
      "================================================================================================================\n"
     ]
    }
   ],
   "source": [
    "y = df['Health']\n",
    "X = df[['HousingCostToIncomeGroup', 'HomeProbTotalGroup', 'NeighQualTotalGroup', 'TransportTimeGroup']]\n",
    "interactions = df['HousingCostToIncomeGroup'] * df['NeighQualTotalGroup']\n",
    "X['HousingCostToIncomeGroup:NeighQualTotalGroup'] = interactions\n",
    "\n",
    "model = OrderedModel(y, X, distr='logit')\n",
    "res = model.fit(method='bfgs')\n",
    "print(res.summary())"
   ]
  },
  {
   "cell_type": "code",
   "execution_count": 52,
   "metadata": {},
   "outputs": [
    {
     "name": "stderr",
     "output_type": "stream",
     "text": [
      "/tmp/ipykernel_99/586652284.py:4: SettingWithCopyWarning: \n",
      "A value is trying to be set on a copy of a slice from a DataFrame.\n",
      "Try using .loc[row_indexer,col_indexer] = value instead\n",
      "\n",
      "See the caveats in the documentation: https://pandas.pydata.org/pandas-docs/stable/user_guide/indexing.html#returning-a-view-versus-a-copy\n",
      "  X['HousingCostToIncomeGroup:TransportTimeGroup'] = interactions\n"
     ]
    },
    {
     "name": "stdout",
     "output_type": "stream",
     "text": [
      "Optimization terminated successfully.\n",
      "         Current function value: 1.123379\n",
      "         Iterations: 27\n",
      "         Function evaluations: 28\n",
      "         Gradient evaluations: 28\n",
      "                             OrderedModel Results                             \n",
      "==============================================================================\n",
      "Dep. Variable:                 Health   Log-Likelihood:                -1675.0\n",
      "Model:                   OrderedModel   AIC:                             3368.\n",
      "Method:            Maximum Likelihood   BIC:                             3416.\n",
      "Date:                Wed, 17 Jul 2024                                         \n",
      "Time:                        20:28:52                                         \n",
      "No. Observations:                1491                                         \n",
      "Df Residuals:                    1482                                         \n",
      "Df Model:                           5                                         \n",
      "===============================================================================================================\n",
      "                                                  coef    std err          z      P>|z|      [0.025      0.975]\n",
      "---------------------------------------------------------------------------------------------------------------\n",
      "HousingCostToIncomeGroup                        0.0673      0.048      1.394      0.163      -0.027       0.162\n",
      "HomeProbTotalGroup                              0.1841      0.064      2.858      0.004       0.058       0.310\n",
      "NeighQualTotalGroup                             0.6288      0.074      8.477      0.000       0.483       0.774\n",
      "TransportTimeGroup                             -0.1132      0.054     -2.089      0.037      -0.219      -0.007\n",
      "HousingCostToIncomeGroup:TransportTimeGroup     0.0100      0.034      0.294      0.769      -0.057       0.077\n",
      "1.0/2.0                                        -0.1881      0.113     -1.662      0.096      -0.410       0.034\n",
      "2.0/3.0                                         0.8492      0.032     26.478      0.000       0.786       0.912\n",
      "3.0/4.0                                         0.6374      0.062     10.204      0.000       0.515       0.760\n",
      "4.0/5.0                                         0.9705      0.164      5.929      0.000       0.650       1.291\n",
      "===============================================================================================================\n"
     ]
    }
   ],
   "source": [
    "y = df['Health']\n",
    "X = df[['HousingCostToIncomeGroup', 'HomeProbTotalGroup', 'NeighQualTotalGroup', 'TransportTimeGroup']]\n",
    "interactions = df['HousingCostToIncomeGroup'] * df['TransportTimeGroup']\n",
    "X['HousingCostToIncomeGroup:TransportTimeGroup'] = interactions\n",
    "\n",
    "model = OrderedModel(y, X, distr='logit')\n",
    "res = model.fit(method='bfgs')\n",
    "print(res.summary())"
   ]
  },
  {
   "cell_type": "code",
   "execution_count": 53,
   "metadata": {},
   "outputs": [
    {
     "name": "stderr",
     "output_type": "stream",
     "text": [
      "/tmp/ipykernel_99/1820592942.py:4: SettingWithCopyWarning: \n",
      "A value is trying to be set on a copy of a slice from a DataFrame.\n",
      "Try using .loc[row_indexer,col_indexer] = value instead\n",
      "\n",
      "See the caveats in the documentation: https://pandas.pydata.org/pandas-docs/stable/user_guide/indexing.html#returning-a-view-versus-a-copy\n",
      "  X['HomeProbTotalGroup:NeighQualTotalGroup'] = interactions\n"
     ]
    },
    {
     "name": "stdout",
     "output_type": "stream",
     "text": [
      "Optimization terminated successfully.\n",
      "         Current function value: 1.123314\n",
      "         Iterations: 30\n",
      "         Function evaluations: 31\n",
      "         Gradient evaluations: 31\n",
      "                             OrderedModel Results                             \n",
      "==============================================================================\n",
      "Dep. Variable:                 Health   Log-Likelihood:                -1674.9\n",
      "Model:                   OrderedModel   AIC:                             3368.\n",
      "Method:            Maximum Likelihood   BIC:                             3415.\n",
      "Date:                Wed, 17 Jul 2024                                         \n",
      "Time:                        20:28:52                                         \n",
      "No. Observations:                1491                                         \n",
      "Df Residuals:                    1482                                         \n",
      "Df Model:                           5                                         \n",
      "==========================================================================================================\n",
      "                                             coef    std err          z      P>|z|      [0.025      0.975]\n",
      "----------------------------------------------------------------------------------------------------------\n",
      "HousingCostToIncomeGroup                   0.0738      0.040      1.827      0.068      -0.005       0.153\n",
      "HomeProbTotalGroup                         0.1244      0.130      0.953      0.340      -0.131       0.380\n",
      "NeighQualTotalGroup                        0.5946      0.098      6.038      0.000       0.402       0.788\n",
      "TransportTimeGroup                        -0.1035      0.042     -2.487      0.013      -0.185      -0.022\n",
      "HomeProbTotalGroup:NeighQualTotalGroup     0.0464      0.088      0.530      0.596      -0.125       0.218\n",
      "1.0/2.0                                   -0.2191      0.133     -1.653      0.098      -0.479       0.041\n",
      "2.0/3.0                                    0.8491      0.032     26.478      0.000       0.786       0.912\n",
      "3.0/4.0                                    0.6384      0.062     10.218      0.000       0.516       0.761\n",
      "4.0/5.0                                    0.9709      0.164      5.932      0.000       0.650       1.292\n",
      "==========================================================================================================\n"
     ]
    }
   ],
   "source": [
    "y = df['Health']\n",
    "X = df[['HousingCostToIncomeGroup', 'HomeProbTotalGroup', 'NeighQualTotalGroup', 'TransportTimeGroup']]\n",
    "interactions = df['HomeProbTotalGroup'] * df['NeighQualTotalGroup']\n",
    "X['HomeProbTotalGroup:NeighQualTotalGroup'] = interactions\n",
    "\n",
    "model = OrderedModel(y, X, distr='logit')\n",
    "res = model.fit(method='bfgs')\n",
    "print(res.summary())"
   ]
  },
  {
   "cell_type": "code",
   "execution_count": 54,
   "metadata": {},
   "outputs": [
    {
     "name": "stderr",
     "output_type": "stream",
     "text": [
      "/tmp/ipykernel_99/3783774956.py:4: SettingWithCopyWarning: \n",
      "A value is trying to be set on a copy of a slice from a DataFrame.\n",
      "Try using .loc[row_indexer,col_indexer] = value instead\n",
      "\n",
      "See the caveats in the documentation: https://pandas.pydata.org/pandas-docs/stable/user_guide/indexing.html#returning-a-view-versus-a-copy\n",
      "  X['HomeProbTotalGroup:TransportTimeGroup'] = interactions\n"
     ]
    },
    {
     "name": "stdout",
     "output_type": "stream",
     "text": [
      "Optimization terminated successfully.\n",
      "         Current function value: 1.123353\n",
      "         Iterations: 28\n",
      "         Function evaluations: 29\n",
      "         Gradient evaluations: 29\n",
      "                             OrderedModel Results                             \n",
      "==============================================================================\n",
      "Dep. Variable:                 Health   Log-Likelihood:                -1674.9\n",
      "Model:                   OrderedModel   AIC:                             3368.\n",
      "Method:            Maximum Likelihood   BIC:                             3416.\n",
      "Date:                Wed, 17 Jul 2024                                         \n",
      "Time:                        20:28:52                                         \n",
      "No. Observations:                1491                                         \n",
      "Df Residuals:                    1482                                         \n",
      "Df Model:                           5                                         \n",
      "=========================================================================================================\n",
      "                                            coef    std err          z      P>|z|      [0.025      0.975]\n",
      "---------------------------------------------------------------------------------------------------------\n",
      "HousingCostToIncomeGroup                  0.0752      0.040      1.864      0.062      -0.004       0.154\n",
      "HomeProbTotalGroup                        0.2039      0.080      2.537      0.011       0.046       0.361\n",
      "NeighQualTotalGroup                       0.6295      0.074      8.485      0.000       0.484       0.775\n",
      "TransportTimeGroup                       -0.0873      0.057     -1.530      0.126      -0.199       0.025\n",
      "HomeProbTotalGroup:TransportTimeGroup    -0.0204      0.051     -0.403      0.687      -0.120       0.079\n",
      "1.0/2.0                                  -0.1657      0.114     -1.460      0.144      -0.388       0.057\n",
      "2.0/3.0                                   0.8492      0.032     26.480      0.000       0.786       0.912\n",
      "3.0/4.0                                   0.6377      0.062     10.210      0.000       0.515       0.760\n",
      "4.0/5.0                                   0.9705      0.164      5.929      0.000       0.650       1.291\n",
      "=========================================================================================================\n"
     ]
    }
   ],
   "source": [
    "y = df['Health']\n",
    "X = df[['HousingCostToIncomeGroup', 'HomeProbTotalGroup', 'NeighQualTotalGroup', 'TransportTimeGroup']]\n",
    "interactions = df['HomeProbTotalGroup'] * df['TransportTimeGroup']\n",
    "X['HomeProbTotalGroup:TransportTimeGroup'] = interactions\n",
    "\n",
    "model = OrderedModel(y, X, distr='logit')\n",
    "res = model.fit(method='bfgs')\n",
    "print(res.summary())"
   ]
  },
  {
   "cell_type": "code",
   "execution_count": 55,
   "metadata": {},
   "outputs": [
    {
     "name": "stderr",
     "output_type": "stream",
     "text": [
      "/tmp/ipykernel_99/1822100917.py:4: SettingWithCopyWarning: \n",
      "A value is trying to be set on a copy of a slice from a DataFrame.\n",
      "Try using .loc[row_indexer,col_indexer] = value instead\n",
      "\n",
      "See the caveats in the documentation: https://pandas.pydata.org/pandas-docs/stable/user_guide/indexing.html#returning-a-view-versus-a-copy\n",
      "  X['NeighQualTotalGroup:TransportTimeGroup'] = interactions\n"
     ]
    },
    {
     "name": "stdout",
     "output_type": "stream",
     "text": [
      "Optimization terminated successfully.\n",
      "         Current function value: 1.123124\n",
      "         Iterations: 27\n",
      "         Function evaluations: 28\n",
      "         Gradient evaluations: 28\n",
      "                             OrderedModel Results                             \n",
      "==============================================================================\n",
      "Dep. Variable:                 Health   Log-Likelihood:                -1674.6\n",
      "Model:                   OrderedModel   AIC:                             3367.\n",
      "Method:            Maximum Likelihood   BIC:                             3415.\n",
      "Date:                Wed, 17 Jul 2024                                         \n",
      "Time:                        20:28:52                                         \n",
      "No. Observations:                1491                                         \n",
      "Df Residuals:                    1482                                         \n",
      "Df Model:                           5                                         \n",
      "==========================================================================================================\n",
      "                                             coef    std err          z      P>|z|      [0.025      0.975]\n",
      "----------------------------------------------------------------------------------------------------------\n",
      "HousingCostToIncomeGroup                   0.0752      0.040      1.863      0.062      -0.004       0.154\n",
      "HomeProbTotalGroup                         0.1860      0.064      2.886      0.004       0.060       0.312\n",
      "NeighQualTotalGroup                        0.6769      0.091      7.459      0.000       0.499       0.855\n",
      "TransportTimeGroup                        -0.0416      0.079     -0.530      0.596      -0.196       0.112\n",
      "NeighQualTotalGroup:TransportTimeGroup    -0.0526      0.057     -0.920      0.358      -0.165       0.059\n",
      "1.0/2.0                                   -0.1235      0.124     -0.994      0.320      -0.367       0.120\n",
      "2.0/3.0                                    0.8496      0.032     26.489      0.000       0.787       0.912\n",
      "3.0/4.0                                    0.6380      0.062     10.214      0.000       0.516       0.760\n",
      "4.0/5.0                                    0.9704      0.164      5.928      0.000       0.650       1.291\n",
      "==========================================================================================================\n"
     ]
    }
   ],
   "source": [
    "y = df['Health']\n",
    "X = df[['HousingCostToIncomeGroup', 'HomeProbTotalGroup', 'NeighQualTotalGroup', 'TransportTimeGroup']]\n",
    "interactions = df['NeighQualTotalGroup'] * df['TransportTimeGroup'] \n",
    "X['NeighQualTotalGroup:TransportTimeGroup'] = interactions\n",
    "\n",
    "model = OrderedModel(y, X, distr='logit')\n",
    "res = model.fit(method='bfgs')\n",
    "print(res.summary())"
   ]
  },
  {
   "cell_type": "markdown",
   "metadata": {},
   "source": [
    "#### all+ four interactions"
   ]
  },
  {
   "cell_type": "code",
   "execution_count": 56,
   "metadata": {},
   "outputs": [
    {
     "name": "stderr",
     "output_type": "stream",
     "text": [
      "/tmp/ipykernel_99/3014542758.py:4: SettingWithCopyWarning: \n",
      "A value is trying to be set on a copy of a slice from a DataFrame.\n",
      "Try using .loc[row_indexer,col_indexer] = value instead\n",
      "\n",
      "See the caveats in the documentation: https://pandas.pydata.org/pandas-docs/stable/user_guide/indexing.html#returning-a-view-versus-a-copy\n",
      "  X['HousingCostToIncomeGroup:HomeProbTotalGroup:NeighQualTotalGroup:TransportTimeGroup'] = interactions\n"
     ]
    },
    {
     "name": "stdout",
     "output_type": "stream",
     "text": [
      "Optimization terminated successfully.\n",
      "         Current function value: 1.123381\n",
      "         Iterations: 27\n",
      "         Function evaluations: 29\n",
      "         Gradient evaluations: 29\n",
      "                             OrderedModel Results                             \n",
      "==============================================================================\n",
      "Dep. Variable:                 Health   Log-Likelihood:                -1675.0\n",
      "Model:                   OrderedModel   AIC:                             3368.\n",
      "Method:            Maximum Likelihood   BIC:                             3416.\n",
      "Date:                Wed, 17 Jul 2024                                         \n",
      "Time:                        20:28:52                                         \n",
      "No. Observations:                1491                                         \n",
      "Df Residuals:                    1482                                         \n",
      "Df Model:                           5                                         \n",
      "======================================================================================================================================================\n",
      "                                                                                         coef    std err          z      P>|z|      [0.025      0.975]\n",
      "------------------------------------------------------------------------------------------------------------------------------------------------------\n",
      "HousingCostToIncomeGroup                                                               0.0784      0.042      1.866      0.062      -0.004       0.161\n",
      "HomeProbTotalGroup                                                                     0.1898      0.067      2.829      0.005       0.058       0.321\n",
      "NeighQualTotalGroup                                                                    0.6321      0.075      8.423      0.000       0.485       0.779\n",
      "TransportTimeGroup                                                                    -0.0987      0.044     -2.224      0.026      -0.186      -0.012\n",
      "HousingCostToIncomeGroup:HomeProbTotalGroup:NeighQualTotalGroup:TransportTimeGroup    -0.0029      0.011     -0.281      0.779      -0.024       0.018\n",
      "1.0/2.0                                                                               -0.1681      0.115     -1.456      0.145      -0.394       0.058\n",
      "2.0/3.0                                                                                0.8492      0.032     26.478      0.000       0.786       0.912\n",
      "3.0/4.0                                                                                0.6376      0.062     10.207      0.000       0.515       0.760\n",
      "4.0/5.0                                                                                0.9705      0.164      5.929      0.000       0.650       1.291\n",
      "======================================================================================================================================================\n"
     ]
    }
   ],
   "source": [
    "y = df['Health']\n",
    "X = df[['HousingCostToIncomeGroup', 'HomeProbTotalGroup', 'NeighQualTotalGroup', 'TransportTimeGroup']]\n",
    "interactions = df['HousingCostToIncomeGroup'] * df['HomeProbTotalGroup'] * df['NeighQualTotalGroup'] * df['TransportTimeGroup']\n",
    "X['HousingCostToIncomeGroup:HomeProbTotalGroup:NeighQualTotalGroup:TransportTimeGroup'] = interactions\n",
    "\n",
    "model = OrderedModel(y, X, distr='logit')\n",
    "res = model.fit(method='bfgs')\n",
    "print(res.summary())"
   ]
  },
  {
   "cell_type": "markdown",
   "metadata": {},
   "source": [
    "#### All+ three interactions"
   ]
  },
  {
   "cell_type": "code",
   "execution_count": 57,
   "metadata": {},
   "outputs": [
    {
     "name": "stderr",
     "output_type": "stream",
     "text": [
      "/tmp/ipykernel_99/1105257979.py:6: SettingWithCopyWarning: \n",
      "A value is trying to be set on a copy of a slice from a DataFrame.\n",
      "Try using .loc[row_indexer,col_indexer] = value instead\n",
      "\n",
      "See the caveats in the documentation: https://pandas.pydata.org/pandas-docs/stable/user_guide/indexing.html#returning-a-view-versus-a-copy\n",
      "  X['HousingCostToIncomeGroup:HomeProbTotalGroup:NeighQualTotalGroup:'] = interactions\n"
     ]
    },
    {
     "name": "stdout",
     "output_type": "stream",
     "text": [
      "Optimization terminated successfully.\n",
      "         Current function value: 1.123407\n",
      "         Iterations: 28\n",
      "         Function evaluations: 30\n",
      "         Gradient evaluations: 30\n",
      "                             OrderedModel Results                             \n",
      "==============================================================================\n",
      "Dep. Variable:                 Health   Log-Likelihood:                -1675.0\n",
      "Model:                   OrderedModel   AIC:                             3368.\n",
      "Method:            Maximum Likelihood   BIC:                             3416.\n",
      "Date:                Wed, 17 Jul 2024                                         \n",
      "Time:                        20:28:52                                         \n",
      "No. Observations:                1491                                         \n",
      "Df Residuals:                    1482                                         \n",
      "Df Model:                           5                                         \n",
      "====================================================================================================================================\n",
      "                                                                       coef    std err          z      P>|z|      [0.025      0.975]\n",
      "------------------------------------------------------------------------------------------------------------------------------------\n",
      "HousingCostToIncomeGroup                                             0.0740      0.048      1.527      0.127      -0.021       0.169\n",
      "HomeProbTotalGroup                                                   0.1828      0.077      2.372      0.018       0.032       0.334\n",
      "NeighQualTotalGroup                                                  0.6279      0.078      8.051      0.000       0.475       0.781\n",
      "TransportTimeGroup                                                  -0.1031      0.042     -2.475      0.013      -0.185      -0.021\n",
      "HousingCostToIncomeGroup:HomeProbTotalGroup:NeighQualTotalGroup:     0.0010      0.024      0.042      0.967      -0.047       0.049\n",
      "1.0/2.0                                                             -0.1813      0.123     -1.479      0.139      -0.422       0.059\n",
      "2.0/3.0                                                              0.8491      0.032     26.477      0.000       0.786       0.912\n",
      "3.0/4.0                                                              0.6376      0.062     10.204      0.000       0.515       0.760\n",
      "4.0/5.0                                                              0.9706      0.164      5.929      0.000       0.650       1.291\n",
      "====================================================================================================================================\n"
     ]
    }
   ],
   "source": [
    "# 全变量 + 只有三个变量的交互项\n",
    "\n",
    "y = df['Health']\n",
    "X = df[['HousingCostToIncomeGroup', 'HomeProbTotalGroup', 'NeighQualTotalGroup', 'TransportTimeGroup']]\n",
    "interactions = df['HousingCostToIncomeGroup'] * df['HomeProbTotalGroup'] * df['NeighQualTotalGroup']\n",
    "X['HousingCostToIncomeGroup:HomeProbTotalGroup:NeighQualTotalGroup:'] = interactions\n",
    "\n",
    "model = OrderedModel(y, X, distr='logit')\n",
    "res = model.fit(method='bfgs')\n",
    "print(res.summary())"
   ]
  },
  {
   "cell_type": "markdown",
   "metadata": {},
   "source": [
    "## Logistic Regression\n"
   ]
  },
  {
   "cell_type": "code",
   "execution_count": 58,
   "metadata": {},
   "outputs": [
    {
     "name": "stdout",
     "output_type": "stream",
     "text": [
      "0\n"
     ]
    }
   ],
   "source": [
    "print(df['HousingCostToIncomeGroup'].isna().sum())"
   ]
  },
  {
   "cell_type": "code",
   "execution_count": 59,
   "metadata": {},
   "outputs": [],
   "source": [
    "import pandas as pd\n",
    "import statsmodels.api as sm\n",
    "from statsmodels.miscmodels.ordinal_model import OrderedModel"
   ]
  },
  {
   "cell_type": "code",
   "execution_count": 60,
   "metadata": {},
   "outputs": [
    {
     "name": "stderr",
     "output_type": "stream",
     "text": [
      "/tmp/ipykernel_99/4101750534.py:7: SettingWithCopyWarning: \n",
      "A value is trying to be set on a copy of a slice from a DataFrame.\n",
      "Try using .loc[row_indexer,col_indexer] = value instead\n",
      "\n",
      "See the caveats in the documentation: https://pandas.pydata.org/pandas-docs/stable/user_guide/indexing.html#returning-a-view-versus-a-copy\n",
      "  X['HousingCostToIncomeGroup:HomeProbTotalGroup'] = interactions\n"
     ]
    },
    {
     "name": "stdout",
     "output_type": "stream",
     "text": [
      "Optimization terminated successfully.\n",
      "         Current function value: 1.123343\n",
      "         Iterations: 29\n",
      "         Function evaluations: 30\n",
      "         Gradient evaluations: 30\n",
      "                             OrderedModel Results                             \n",
      "==============================================================================\n",
      "Dep. Variable:                 Health   Log-Likelihood:                -1674.9\n",
      "Model:                   OrderedModel   AIC:                             3368.\n",
      "Method:            Maximum Likelihood   BIC:                             3416.\n",
      "Date:                Wed, 17 Jul 2024                                         \n",
      "Time:                        20:28:53                                         \n",
      "No. Observations:                1491                                         \n",
      "Df Residuals:                    1482                                         \n",
      "Df Model:                           5                                         \n",
      "===============================================================================================================\n",
      "                                                  coef    std err          z      P>|z|      [0.025      0.975]\n",
      "---------------------------------------------------------------------------------------------------------------\n",
      "HousingCostToIncomeGroup                        0.0918      0.056      1.655      0.098      -0.017       0.201\n",
      "HomeProbTotalGroup                              0.2106      0.088      2.402      0.016       0.039       0.382\n",
      "NeighQualTotalGroup                             0.6305      0.074      8.488      0.000       0.485       0.776\n",
      "TransportTimeGroup                             -0.1030      0.042     -2.474      0.013      -0.185      -0.021\n",
      "HousingCostToIncomeGroup:HomeProbTotalGroup    -0.0214      0.049     -0.439      0.661      -0.117       0.074\n",
      "1.0/2.0                                        -0.1596      0.117     -1.359      0.174      -0.390       0.070\n",
      "2.0/3.0                                         0.8493      0.032     26.480      0.000       0.786       0.912\n",
      "3.0/4.0                                         0.6375      0.062     10.206      0.000       0.515       0.760\n",
      "4.0/5.0                                         0.9706      0.164      5.929      0.000       0.650       1.291\n",
      "===============================================================================================================\n"
     ]
    }
   ],
   "source": [
    "y = df['Health']\n",
    "X = df[['HousingCostToIncomeGroup', 'HomeProbTotalGroup', 'NeighQualTotalGroup', 'TransportTimeGroup']]\n",
    "interactions = df['HousingCostToIncomeGroup'] * df['HomeProbTotalGroup']\n",
    "# 添加常数项\n",
    "# X = sm.add_constant(X)\n",
    "\n",
    "X['HousingCostToIncomeGroup:HomeProbTotalGroup'] = interactions\n",
    "# 拟合模型\n",
    "model = OrderedModel(y, X, distr='logit')\n",
    "res = model.fit(method='bfgs')\n",
    "\n",
    "# 输出模型摘要\n",
    "print(res.summary())"
   ]
  },
  {
   "cell_type": "code",
   "execution_count": 61,
   "metadata": {},
   "outputs": [],
   "source": [
    "# Logistic regression results, the accuracy and F1 value of health value 2 classification are significantly higher than those of 5 classification"
   ]
  },
  {
   "cell_type": "code",
   "execution_count": 62,
   "metadata": {},
   "outputs": [
    {
     "name": "stdout",
     "output_type": "stream",
     "text": [
      "Warning: Maximum number of iterations has been exceeded.\n",
      "         Current function value: 1.237324\n",
      "         Iterations: 35\n",
      "[[ 57. 345.   0.   9.   0.]\n",
      " [ 65. 670.   0.  11.   0.]\n",
      " [ 15. 249.   0.   4.   0.]\n",
      " [  1.  60.   0.   0.   0.]\n",
      " [  0.   5.   0.   0.   0.]]\n",
      "Accuracy: 0.4875922199865862\n",
      "Micro F1: 0.2340710932260228\n",
      "Macro F1: 0.07065816406865061\n"
     ]
    },
    {
     "name": "stderr",
     "output_type": "stream",
     "text": [
      "/opt/conda/lib/python3.11/site-packages/statsmodels/base/model.py:607: ConvergenceWarning: Maximum Likelihood optimization failed to converge. Check mle_retvals\n",
      "  warnings.warn(\"Maximum Likelihood optimization failed to \"\n"
     ]
    }
   ],
   "source": [
    "import pandas as pd\n",
    "import statsmodels.api as sm\n",
    "from sklearn.metrics import f1_score\n",
    "\n",
    "df['Health'].fillna(df['Health'].median(), inplace=True) # 1个空值\n",
    "\n",
    "# Define and fit a multi-class logistic regression model\n",
    "multinomial_logit_model = sm.MNLogit(df['Health'], df[['HousingCostToIncomeGroup', 'HomeProbTotalGroup', 'NeighQualTotalGroup', 'TransportTimeGroup']])\n",
    "multinomial_logit_result = multinomial_logit_model.fit()\n",
    "\n",
    "# Print confusion matrix\n",
    "print(multinomial_logit_result.pred_table())    \n",
    "\n",
    "# Calculate accuracy\n",
    "accuracy = np.diag(multinomial_logit_result.pred_table()).sum() / df.shape[0]\n",
    "print('Accuracy:', accuracy)\n",
    "\n",
    "# Calculate micro F1 and macro F1\n",
    "y_true = df['Health']\n",
    "y_pred = np.argmax(multinomial_logit_result.predict(), axis=1)\n",
    "micro_f1 = f1_score(y_true, y_pred, average='micro')\n",
    "macro_f1 = f1_score(y_true, y_pred, average='macro')\n",
    "print('Micro F1:', micro_f1)\n",
    "print('Macro F1:', macro_f1)\n"
   ]
  },
  {
   "cell_type": "code",
   "execution_count": 63,
   "metadata": {},
   "outputs": [],
   "source": [
    "# transfer Health into binary value with median\n",
    "\n",
    "df['Health_bin'] = df['Health'].apply(lambda x: 1 if x > df['Health'].median() else 0)"
   ]
  },
  {
   "cell_type": "code",
   "execution_count": 64,
   "metadata": {},
   "outputs": [
    {
     "name": "stdout",
     "output_type": "stream",
     "text": [
      "Optimization terminated successfully.\n",
      "         Current function value: 0.594953\n",
      "         Iterations 5\n",
      "[[1157.    0.]\n",
      " [ 334.    0.]]\n",
      "Accuracy: 0.7759892689470155\n",
      "Micro F1: 0.7759892689470155\n",
      "Macro F1: 0.43693353474320246\n"
     ]
    }
   ],
   "source": [
    "import pandas as pd\n",
    "import statsmodels.api as sm\n",
    "from sklearn.metrics import f1_score\n",
    "\n",
    "# Define and fit a multi-class logistic regression model\n",
    "multinomial_logit_model = sm.MNLogit(df['Health_bin'], df[['HousingCostToIncomeGroup', 'HomeProbTotalGroup', 'NeighQualTotalGroup', 'TransportTimeGroup']])\n",
    "multinomial_logit_result = multinomial_logit_model.fit()\n",
    "\n",
    "# Print confusion matrix\n",
    "print(multinomial_logit_result.pred_table())    \n",
    "\n",
    "# Calculate accuracy\n",
    "accuracy = np.diag(multinomial_logit_result.pred_table()).sum() / df.shape[0]\n",
    "print('Accuracy:', accuracy)\n",
    "\n",
    "# Calculate micro F1 and macro F1\n",
    "y_true = df['Health_bin']\n",
    "y_pred = np.argmax(multinomial_logit_result.predict(), axis=1)\n",
    "micro_f1 = f1_score(y_true, y_pred, average='micro')\n",
    "macro_f1 = f1_score(y_true, y_pred, average='macro')\n",
    "print('Micro F1:', micro_f1)\n",
    "print('Macro F1:', macro_f1)\n"
   ]
  },
  {
   "cell_type": "markdown",
   "metadata": {},
   "source": [
    "## Threshold analysis"
   ]
  },
  {
   "cell_type": "code",
   "execution_count": 65,
   "metadata": {},
   "outputs": [],
   "source": [
    "# calculate the number of deprivations \n",
    "df['DeprivationNum'] = df[['HousingCostToIncomeGroup', 'HomeProbTotalGroup', 'NeighQualTotalGroup', 'TransportTimeGroup']].sum(axis=1)"
   ]
  },
  {
   "cell_type": "code",
   "execution_count": 66,
   "metadata": {},
   "outputs": [
    {
     "name": "stdout",
     "output_type": "stream",
     "text": [
      "DeprivationNumGroup\n",
      "1    689\n",
      "0    486\n",
      "2    316\n",
      "Name: count, dtype: int64\n"
     ]
    }
   ],
   "source": [
    "# group the number of deprivations into 5 groups\n",
    "df['DeprivationNumGroup'] = pd.cut(df['DeprivationNum'], bins=[-1, 2, 5, 100], labels=[0,1,2])\n",
    "# df['DeprivationNumGroup'] = df['DeprivationNumGroup'].astype(float)\n",
    "print(df['DeprivationNumGroup'].value_counts())"
   ]
  },
  {
   "cell_type": "code",
   "execution_count": 67,
   "metadata": {},
   "outputs": [
    {
     "name": "stderr",
     "output_type": "stream",
     "text": [
      "/opt/conda/lib/python3.11/site-packages/seaborn/_oldcore.py:1498: FutureWarning: is_categorical_dtype is deprecated and will be removed in a future version. Use isinstance(dtype, CategoricalDtype) instead\n",
      "  if pd.api.types.is_categorical_dtype(vector):\n",
      "/opt/conda/lib/python3.11/site-packages/seaborn/_oldcore.py:1119: FutureWarning: use_inf_as_na option is deprecated and will be removed in a future version. Convert inf values to NaN before operating instead.\n",
      "  with pd.option_context('mode.use_inf_as_na', True):\n"
     ]
    },
    {
     "data": {
      "image/png": "[encoded data removed]",
      "text/plain": [
       "<Figure size 640x480 with 1 Axes>"
      ]
     },
     "metadata": {},
     "output_type": "display_data"
    }
   ],
   "source": [
    "# plot for 'DeprivationNumGroup'\n",
    "sns.histplot(df['DeprivationNumGroup'])\n",
    "plt.show()"
   ]
  },
  {
   "cell_type": "code",
   "execution_count": 75,
   "metadata": {},
   "outputs": [
    {
     "ename": "NameError",
     "evalue": "name 'ols' is not defined",
     "output_type": "error",
     "traceback": [
      "\u001b[0;31m---------------------------------------------------------------------------\u001b[0m",
      "\u001b[0;31mNameError\u001b[0m                                 Traceback (most recent call last)",
      "Cell \u001b[0;32mIn[75], line 5\u001b[0m\n\u001b[1;32m      2\u001b[0m \u001b[38;5;28;01mfrom\u001b[39;00m \u001b[38;5;21;01mstatsmodels\u001b[39;00m\u001b[38;5;21;01m.\u001b[39;00m\u001b[38;5;21;01mstats\u001b[39;00m\u001b[38;5;21;01m.\u001b[39;00m\u001b[38;5;21;01manova\u001b[39;00m \u001b[38;5;28;01mimport\u001b[39;00m anova_lm\n\u001b[1;32m      3\u001b[0m \u001b[38;5;66;03m# compare health outcomes across these groups using ANOVA or Chi-square tests.\u001b[39;00m\n\u001b[1;32m      4\u001b[0m \u001b[38;5;66;03m# ANOVA\u001b[39;00m\n\u001b[0;32m----> 5\u001b[0m model \u001b[38;5;241m=\u001b[39m \u001b[43mols\u001b[49m(\u001b[38;5;124m'\u001b[39m\u001b[38;5;124mHealth ~ 0 + DeprivationNumGroup\u001b[39m\u001b[38;5;124m'\u001b[39m, data\u001b[38;5;241m=\u001b[39mdf)\u001b[38;5;241m.\u001b[39mfit()\n\u001b[1;32m      6\u001b[0m \u001b[38;5;28mprint\u001b[39m(model\u001b[38;5;241m.\u001b[39msummary())\n\u001b[1;32m      7\u001b[0m \u001b[38;5;28mprint\u001b[39m()\n",
      "\u001b[0;31mNameError\u001b[0m: name 'ols' is not defined"
     ]
    }
   ],
   "source": [
    "import scipy.stats as stats\n",
    "from statsmodels.stats.anova import anova_lm\n",
    "# compare health outcomes across these groups using ANOVA or Chi-square tests.\n",
    "# ANOVA\n",
    "model = ols('Health ~ 0 + DeprivationNumGroup', data=df).fit()\n",
    "print(model.summary())\n",
    "print()"
   ]
  },
  {
   "cell_type": "code",
   "execution_count": null,
   "metadata": {},
   "outputs": [],
   "source": [
    "# 进行ANOVA分析\n",
    "anova_results = anova_lm(model, typ=2)\n",
    "\n",
    "# 输出结果\n",
    "print(anova_results)"
   ]
  },
  {
   "cell_type": "code",
   "execution_count": null,
   "metadata": {},
   "outputs": [],
   "source": [
    "import scipy.stats as stats\n",
    "\n",
    "f_value, p_value = stats.f_oneway(df[df['DeprivationNumGroup']==0]['Health'], df[df['DeprivationNumGroup']==1]['Health'], df[df['DeprivationNumGroup']==2]['Health'])\n",
    "\n",
    "print(\"F值:\", f_value)\n",
    "print(\"P值:\", p_value)"
   ]
  },
  {
   "cell_type": "code",
   "execution_count": null,
   "metadata": {},
   "outputs": [],
   "source": [
    "\n",
    "# Chi-square tests\n",
    "contingency_table = pd.crosstab(df['Health'], df['DeprivationNumGroup'])\n",
    "chi2, p, dof, expected = stats.chi2_contingency(contingency_table)\n",
    "print('Chi-square:', chi2)\n",
    "print('P-value:', p)"
   ]
  },
  {
   "cell_type": "code",
   "execution_count": null,
   "metadata": {},
   "outputs": [],
   "source": [
    "# ANOVA和卡方检验的P值都小于0.05，说明不同剥夺程度组的健康值有显著差异"
   ]
  }
 ],
 "metadata": {
  "kernelspec": {
   "display_name": "Python 3 (ipykernel)",
   "language": "python",
   "name": "python3"
  },
  "language_info": {
   "codemirror_mode": {
    "name": "ipython",
    "version": 3
   },
   "file_extension": ".py",
   "mimetype": "text/x-python",
   "name": "python",
   "nbconvert_exporter": "python",
   "pygments_lexer": "ipython3",
   "version": "3.11.5"
  }
 },
 "nbformat": 4,
 "nbformat_minor": 4
}
